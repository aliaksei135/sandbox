{
 "cells": [
  {
   "cell_type": "code",
   "execution_count": 77,
   "metadata": {
    "collapsed": true
   },
   "outputs": [],
   "source": [
    "import json\n",
    "import pandas as pd\n",
    "import geopandas as gpd\n",
    "import numpy as np\n",
    "from uuid import uuid4\n",
    "import datetime as dt\n",
    "import subprocess"
   ]
  },
  {
   "cell_type": "code",
   "execution_count": 99,
   "outputs": [
    {
     "data": {
      "text/plain": "0"
     },
     "execution_count": 99,
     "metadata": {},
     "output_type": "execute_result"
    }
   ],
   "source": [
    "file = 'data/F2-2022_07_06-1407.BIN'\n",
    "outfile = open(file.split('.')[0]+'.json', 'w')\n",
    "subprocess.call(['python', 'mavlogdump.py', '--format=json',file], stdout=outfile, shell=True)"
   ],
   "metadata": {
    "collapsed": false
   }
  },
  {
   "cell_type": "code",
   "execution_count": 101,
   "outputs": [
    {
     "data": {
      "text/plain": "      meta.type  meta.timestamp  data.Type  data.Length   data.Name  \\\n0           FMT    1.657118e+09      173.0         31.0         POS   \n1           POS    1.657116e+09        NaN          NaN         NaN   \n2          PARM    1.657116e+09        NaN          NaN  GPS1_POS_X   \n3          PARM    1.657116e+09        NaN          NaN  GPS1_POS_Y   \n4          PARM    1.657116e+09        NaN          NaN  GPS1_POS_Z   \n...         ...             ...        ...          ...         ...   \n65438       POS    1.657119e+09        NaN          NaN         NaN   \n65439       POS    1.657119e+09        NaN          NaN         NaN   \n65440       POS    1.657119e+09        NaN          NaN         NaN   \n65441       POS    1.657119e+09        NaN          NaN         NaN   \n65442       POS    1.657119e+09        NaN          NaN         NaN   \n\n      data.Format                                data.Columns   data.TimeUS  \\\n0          QLLfff  TimeUS,Lat,Lng,Alt,RelHomeAlt,RelOriginAlt           NaN   \n1             NaN                                         NaN  7.415264e+07   \n2             NaN                                         NaN  7.415851e+07   \n3             NaN                                         NaN  7.415854e+07   \n4             NaN                                         NaN  7.415857e+07   \n...           ...                                         ...           ...   \n65438         NaN                                         NaN  2.712414e+09   \n65439         NaN                                         NaN  2.712454e+09   \n65440         NaN                                         NaN  2.712493e+09   \n65441         NaN                                         NaN  2.712535e+09   \n65442         NaN                                         NaN  2.712575e+09   \n\n        data.Lat  data.Lng  data.Alt  data.RelHomeAlt  data.RelOriginAlt  \\\n0            NaN       NaN       NaN              NaN                NaN   \n1      52.811266 -4.123635      8.65        -0.010395          -0.010395   \n2            NaN       NaN       NaN              NaN                NaN   \n3            NaN       NaN       NaN              NaN                NaN   \n4            NaN       NaN       NaN              NaN                NaN   \n...          ...       ...       ...              ...                ...   \n65438  52.811296 -4.123519     11.99        -0.135292          -0.135292   \n65439  52.811296 -4.123519     11.99        -0.137154          -0.137154   \n65440  52.811296 -4.123519     11.99        -0.138925          -0.138925   \n65441  52.811296 -4.123519     11.98        -0.140652          -0.140652   \n65442  52.811296 -4.123519     11.98        -0.141952          -0.141952   \n\n       data.Value  \n0             NaN  \n1             NaN  \n2             0.0  \n3             0.0  \n4             0.0  \n...           ...  \n65438         NaN  \n65439         NaN  \n65440         NaN  \n65441         NaN  \n65442         NaN  \n\n[65443 rows x 14 columns]",
      "text/html": "<div>\n<style scoped>\n    .dataframe tbody tr th:only-of-type {\n        vertical-align: middle;\n    }\n\n    .dataframe tbody tr th {\n        vertical-align: top;\n    }\n\n    .dataframe thead th {\n        text-align: right;\n    }\n</style>\n<table border=\"1\" class=\"dataframe\">\n  <thead>\n    <tr style=\"text-align: right;\">\n      <th></th>\n      <th>meta.type</th>\n      <th>meta.timestamp</th>\n      <th>data.Type</th>\n      <th>data.Length</th>\n      <th>data.Name</th>\n      <th>data.Format</th>\n      <th>data.Columns</th>\n      <th>data.TimeUS</th>\n      <th>data.Lat</th>\n      <th>data.Lng</th>\n      <th>data.Alt</th>\n      <th>data.RelHomeAlt</th>\n      <th>data.RelOriginAlt</th>\n      <th>data.Value</th>\n    </tr>\n  </thead>\n  <tbody>\n    <tr>\n      <th>0</th>\n      <td>FMT</td>\n      <td>1.657118e+09</td>\n      <td>173.0</td>\n      <td>31.0</td>\n      <td>POS</td>\n      <td>QLLfff</td>\n      <td>TimeUS,Lat,Lng,Alt,RelHomeAlt,RelOriginAlt</td>\n      <td>NaN</td>\n      <td>NaN</td>\n      <td>NaN</td>\n      <td>NaN</td>\n      <td>NaN</td>\n      <td>NaN</td>\n      <td>NaN</td>\n    </tr>\n    <tr>\n      <th>1</th>\n      <td>POS</td>\n      <td>1.657116e+09</td>\n      <td>NaN</td>\n      <td>NaN</td>\n      <td>NaN</td>\n      <td>NaN</td>\n      <td>NaN</td>\n      <td>7.415264e+07</td>\n      <td>52.811266</td>\n      <td>-4.123635</td>\n      <td>8.65</td>\n      <td>-0.010395</td>\n      <td>-0.010395</td>\n      <td>NaN</td>\n    </tr>\n    <tr>\n      <th>2</th>\n      <td>PARM</td>\n      <td>1.657116e+09</td>\n      <td>NaN</td>\n      <td>NaN</td>\n      <td>GPS1_POS_X</td>\n      <td>NaN</td>\n      <td>NaN</td>\n      <td>7.415851e+07</td>\n      <td>NaN</td>\n      <td>NaN</td>\n      <td>NaN</td>\n      <td>NaN</td>\n      <td>NaN</td>\n      <td>0.0</td>\n    </tr>\n    <tr>\n      <th>3</th>\n      <td>PARM</td>\n      <td>1.657116e+09</td>\n      <td>NaN</td>\n      <td>NaN</td>\n      <td>GPS1_POS_Y</td>\n      <td>NaN</td>\n      <td>NaN</td>\n      <td>7.415854e+07</td>\n      <td>NaN</td>\n      <td>NaN</td>\n      <td>NaN</td>\n      <td>NaN</td>\n      <td>NaN</td>\n      <td>0.0</td>\n    </tr>\n    <tr>\n      <th>4</th>\n      <td>PARM</td>\n      <td>1.657116e+09</td>\n      <td>NaN</td>\n      <td>NaN</td>\n      <td>GPS1_POS_Z</td>\n      <td>NaN</td>\n      <td>NaN</td>\n      <td>7.415857e+07</td>\n      <td>NaN</td>\n      <td>NaN</td>\n      <td>NaN</td>\n      <td>NaN</td>\n      <td>NaN</td>\n      <td>0.0</td>\n    </tr>\n    <tr>\n      <th>...</th>\n      <td>...</td>\n      <td>...</td>\n      <td>...</td>\n      <td>...</td>\n      <td>...</td>\n      <td>...</td>\n      <td>...</td>\n      <td>...</td>\n      <td>...</td>\n      <td>...</td>\n      <td>...</td>\n      <td>...</td>\n      <td>...</td>\n      <td>...</td>\n    </tr>\n    <tr>\n      <th>65438</th>\n      <td>POS</td>\n      <td>1.657119e+09</td>\n      <td>NaN</td>\n      <td>NaN</td>\n      <td>NaN</td>\n      <td>NaN</td>\n      <td>NaN</td>\n      <td>2.712414e+09</td>\n      <td>52.811296</td>\n      <td>-4.123519</td>\n      <td>11.99</td>\n      <td>-0.135292</td>\n      <td>-0.135292</td>\n      <td>NaN</td>\n    </tr>\n    <tr>\n      <th>65439</th>\n      <td>POS</td>\n      <td>1.657119e+09</td>\n      <td>NaN</td>\n      <td>NaN</td>\n      <td>NaN</td>\n      <td>NaN</td>\n      <td>NaN</td>\n      <td>2.712454e+09</td>\n      <td>52.811296</td>\n      <td>-4.123519</td>\n      <td>11.99</td>\n      <td>-0.137154</td>\n      <td>-0.137154</td>\n      <td>NaN</td>\n    </tr>\n    <tr>\n      <th>65440</th>\n      <td>POS</td>\n      <td>1.657119e+09</td>\n      <td>NaN</td>\n      <td>NaN</td>\n      <td>NaN</td>\n      <td>NaN</td>\n      <td>NaN</td>\n      <td>2.712493e+09</td>\n      <td>52.811296</td>\n      <td>-4.123519</td>\n      <td>11.99</td>\n      <td>-0.138925</td>\n      <td>-0.138925</td>\n      <td>NaN</td>\n    </tr>\n    <tr>\n      <th>65441</th>\n      <td>POS</td>\n      <td>1.657119e+09</td>\n      <td>NaN</td>\n      <td>NaN</td>\n      <td>NaN</td>\n      <td>NaN</td>\n      <td>NaN</td>\n      <td>2.712535e+09</td>\n      <td>52.811296</td>\n      <td>-4.123519</td>\n      <td>11.98</td>\n      <td>-0.140652</td>\n      <td>-0.140652</td>\n      <td>NaN</td>\n    </tr>\n    <tr>\n      <th>65442</th>\n      <td>POS</td>\n      <td>1.657119e+09</td>\n      <td>NaN</td>\n      <td>NaN</td>\n      <td>NaN</td>\n      <td>NaN</td>\n      <td>NaN</td>\n      <td>2.712575e+09</td>\n      <td>52.811296</td>\n      <td>-4.123519</td>\n      <td>11.98</td>\n      <td>-0.141952</td>\n      <td>-0.141952</td>\n      <td>NaN</td>\n    </tr>\n  </tbody>\n</table>\n<p>65443 rows × 14 columns</p>\n</div>"
     },
     "execution_count": 101,
     "metadata": {},
     "output_type": "execute_result"
    }
   ],
   "source": [
    "with open(outfile.name, 'r') as f:\n",
    "    raw_str = f.readlines()\n",
    "pos_str = [json.loads(line) for line in raw_str if 'POS' in line]\n",
    "pos_df = pd.json_normalize(pos_str)\n",
    "pos_df"
   ],
   "metadata": {
    "collapsed": false
   }
  },
  {
   "cell_type": "code",
   "execution_count": 102,
   "outputs": [],
   "source": [
    "pos_df = pos_df[pos_df['meta.type'] == 'POS'].dropna(axis=1).drop_duplicates(\n",
    "    subset=['data.Lat', 'data.Lng', 'data.Alt']).drop(\n",
    "    labels=['meta.type', 'data.TimeUS', 'data.RelHomeAlt', 'data.RelOriginAlt'], axis=1)\n",
    "pos_gdf = gpd.GeoDataFrame(pos_df,\n",
    "                           geometry=gpd.points_from_xy(pos_df['data.Lng'], pos_df['data.Lat'], crs='epsg:4326'))\n",
    "\n"
   ],
   "metadata": {
    "collapsed": false
   }
  },
  {
   "cell_type": "code",
   "execution_count": 104,
   "outputs": [
    {
     "data": {
      "text/plain": "       meta.timestamp  data.Lng   data.Lat  data.Alt\n1        1.657116e+09 -4.123635  52.811266      8.65\n24       1.657116e+09 -4.123635  52.811266      8.66\n29       1.657116e+09 -4.123635  52.811266      8.65\n46       1.657116e+09 -4.123635  52.811266      8.66\n48       1.657116e+09 -4.123635  52.811266      8.66\n...               ...       ...        ...       ...\n65429    1.657119e+09 -4.123519  52.811296     12.00\n65434    1.657119e+09 -4.123519  52.811296     11.99\n65437    1.657119e+09 -4.123519  52.811296     11.99\n65438    1.657119e+09 -4.123519  52.811296     11.99\n65441    1.657119e+09 -4.123519  52.811296     11.98\n\n[52988 rows x 4 columns]",
      "text/html": "<div>\n<style scoped>\n    .dataframe tbody tr th:only-of-type {\n        vertical-align: middle;\n    }\n\n    .dataframe tbody tr th {\n        vertical-align: top;\n    }\n\n    .dataframe thead th {\n        text-align: right;\n    }\n</style>\n<table border=\"1\" class=\"dataframe\">\n  <thead>\n    <tr style=\"text-align: right;\">\n      <th></th>\n      <th>meta.timestamp</th>\n      <th>data.Lng</th>\n      <th>data.Lat</th>\n      <th>data.Alt</th>\n    </tr>\n  </thead>\n  <tbody>\n    <tr>\n      <th>1</th>\n      <td>1.657116e+09</td>\n      <td>-4.123635</td>\n      <td>52.811266</td>\n      <td>8.65</td>\n    </tr>\n    <tr>\n      <th>24</th>\n      <td>1.657116e+09</td>\n      <td>-4.123635</td>\n      <td>52.811266</td>\n      <td>8.66</td>\n    </tr>\n    <tr>\n      <th>29</th>\n      <td>1.657116e+09</td>\n      <td>-4.123635</td>\n      <td>52.811266</td>\n      <td>8.65</td>\n    </tr>\n    <tr>\n      <th>46</th>\n      <td>1.657116e+09</td>\n      <td>-4.123635</td>\n      <td>52.811266</td>\n      <td>8.66</td>\n    </tr>\n    <tr>\n      <th>48</th>\n      <td>1.657116e+09</td>\n      <td>-4.123635</td>\n      <td>52.811266</td>\n      <td>8.66</td>\n    </tr>\n    <tr>\n      <th>...</th>\n      <td>...</td>\n      <td>...</td>\n      <td>...</td>\n      <td>...</td>\n    </tr>\n    <tr>\n      <th>65429</th>\n      <td>1.657119e+09</td>\n      <td>-4.123519</td>\n      <td>52.811296</td>\n      <td>12.00</td>\n    </tr>\n    <tr>\n      <th>65434</th>\n      <td>1.657119e+09</td>\n      <td>-4.123519</td>\n      <td>52.811296</td>\n      <td>11.99</td>\n    </tr>\n    <tr>\n      <th>65437</th>\n      <td>1.657119e+09</td>\n      <td>-4.123519</td>\n      <td>52.811296</td>\n      <td>11.99</td>\n    </tr>\n    <tr>\n      <th>65438</th>\n      <td>1.657119e+09</td>\n      <td>-4.123519</td>\n      <td>52.811296</td>\n      <td>11.99</td>\n    </tr>\n    <tr>\n      <th>65441</th>\n      <td>1.657119e+09</td>\n      <td>-4.123519</td>\n      <td>52.811296</td>\n      <td>11.98</td>\n    </tr>\n  </tbody>\n</table>\n<p>52988 rows × 4 columns</p>\n</div>"
     },
     "execution_count": 104,
     "metadata": {},
     "output_type": "execute_result"
    }
   ],
   "source": [
    "pos_df = pos_gdf[['meta.timestamp', 'data.Lng', 'data.Lat', 'data.Alt']]\n",
    "flat_4d_coords = list(np.array(pos_gdf[['meta.timestamp', 'data.Lng', 'data.Lat', 'data.Alt']].values).flatten())\n",
    "flat_3d_coords = list(np.array(pos_gdf[['data.Lng', 'data.Lat', 'data.Alt']].values).flatten())\n",
    "max_time = dt.datetime.fromtimestamp(pos_df['meta.timestamp'].max())\n",
    "min_time = dt.datetime.fromtimestamp(pos_df['meta.timestamp'].min())\n",
    "uid = str(uuid4())\n",
    "pos_df"
   ],
   "metadata": {
    "collapsed": false
   }
  },
  {
   "cell_type": "code",
   "execution_count": 105,
   "outputs": [],
   "source": [
    "czml_id_packet = {\n",
    "    'id': \"document\",\n",
    "    'name': \"CZML Model\",\n",
    "    'version': \"1.0\",\n",
    "}"
   ],
   "metadata": {
    "collapsed": false
   }
  },
  {
   "cell_type": "code",
   "execution_count": 106,
   "outputs": [],
   "source": [
    "czml_model_packet = {\n",
    "    'id': uid + '.log',\n",
    "    'availability': min_time.replace(microsecond=0).isoformat() + 'Z/' + max_time.replace(\n",
    "        microsecond=0).isoformat() + 'Z',\n",
    "    'position': {\"epoch\": \"1970-01-01T00:00:00Z\",\n",
    "                 \"cartographicDegrees\": flat_4d_coords},\n",
    "    'model': {\n",
    "        \"gltf\": \"https://raw.githubusercontent.com/bobbyhiom/cyberpunkjam/master/CyberPunkScene/models/drone.gltf\",\n",
    "        \"scale\": 1, \"minimumPixelSize\": 32}\n",
    "}"
   ],
   "metadata": {
    "collapsed": false
   }
  },
  {
   "cell_type": "code",
   "execution_count": 107,
   "outputs": [],
   "source": [
    "czml_traj_packet = {\n",
    "    'id': uid + '.log',\n",
    "    'availability': min_time.replace(microsecond=0).isoformat() + 'Z/' + max_time.replace(\n",
    "        microsecond=0).isoformat() + 'Z',\n",
    "    'polyline': {\"positions\": {\n",
    "        \"cartographicDegrees\": flat_3d_coords\n",
    "    },\n",
    "        \"material\": {\"solidColor\": {\"color\": {\"rgba\": [200, 255, 200, 255]}}}}\n",
    "}"
   ],
   "metadata": {
    "collapsed": false
   }
  },
  {
   "cell_type": "code",
   "execution_count": 71,
   "outputs": [],
   "source": [
    "with open('spotter.czml', 'w') as f:\n",
    "    # f.write(str(czml_id_packet))\n",
    "    # f.write(',')\n",
    "    # f.write(str(czml_model_packet))\n",
    "    # f.write(',')\n",
    "    f.write(str(czml_traj_packet))"
   ],
   "metadata": {
    "collapsed": false
   }
  },
  {
   "cell_type": "code",
   "execution_count": 67,
   "outputs": [],
   "source": [
    "from czml3.widget import CZMLWidget\n",
    "from czml3.examples import simple"
   ],
   "metadata": {
    "collapsed": false
   }
  },
  {
   "cell_type": "code",
   "execution_count": null,
   "outputs": [],
   "source": [],
   "metadata": {
    "collapsed": false
   }
  }
 ],
 "metadata": {
  "kernelspec": {
   "display_name": "Python 3",
   "language": "python",
   "name": "python3"
  },
  "language_info": {
   "codemirror_mode": {
    "name": "ipython",
    "version": 2
   },
   "file_extension": ".py",
   "mimetype": "text/x-python",
   "name": "python",
   "nbconvert_exporter": "python",
   "pygments_lexer": "ipython2",
   "version": "2.7.6"
  }
 },
 "nbformat": 4,
 "nbformat_minor": 0
}
