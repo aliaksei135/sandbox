{
 "cells": [
  {
   "cell_type": "code",
   "execution_count": 1,
   "metadata": {
    "collapsed": true,
    "pycharm": {
     "name": "#%%\n"
    }
   },
   "outputs": [],
   "source": [
    "import geopandas as gpd\n",
    "import pandas as pd\n",
    "import seaborn as sns\n",
    "import traffic\n",
    "import numpy as np\n",
    "import pyproj\n",
    "from scipy.spatial.distance import cdist"
   ]
  },
  {
   "cell_type": "code",
   "execution_count": 4,
   "outputs": [
    {
     "ename": "AttributeError",
     "evalue": "module 'traffic' has no attribute 'core'",
     "output_type": "error",
     "traceback": [
      "\u001B[0;31m---------------------------------------------------------------------------\u001B[0m",
      "\u001B[0;31mAttributeError\u001B[0m                            Traceback (most recent call last)",
      "Input \u001B[0;32mIn [4]\u001B[0m, in \u001B[0;36m<cell line: 3>\u001B[0;34m()\u001B[0m\n\u001B[1;32m      1\u001B[0m \u001B[38;5;66;03m# airprox_gdf = gpd.GeoDataFrame(pd.read_pickle('../data/airprox_asp_2000_2021.pkl'))\u001B[39;00m\n\u001B[1;32m      2\u001B[0m \u001B[38;5;66;03m# tfc_clean = traffic.core.Traffic.from_file('../data/cornwall_tfc_clean_30s_lt3000ft_2019_filt10.pkl')\u001B[39;00m\n\u001B[0;32m----> 3\u001B[0m tfc_clean \u001B[38;5;241m=\u001B[39m \u001B[43mtraffic\u001B[49m\u001B[38;5;241;43m.\u001B[39;49m\u001B[43mcore\u001B[49m\u001B[38;5;241m.\u001B[39mTraffic\u001B[38;5;241m.\u001B[39mfrom_file(\u001B[38;5;124m'\u001B[39m\u001B[38;5;124m../data/soton_tfc_clean_lt5000ft_201901.pkl\u001B[39m\u001B[38;5;124m'\u001B[39m)\n",
      "\u001B[0;31mAttributeError\u001B[0m: module 'traffic' has no attribute 'core'"
     ]
    }
   ],
   "source": [
    "# airprox_gdf = gpd.GeoDataFrame(pd.read_pickle('../data/airprox_asp_2000_2021.pkl'))\n",
    "# tfc_clean = traffic.core.Traffic.from_file('../data/cornwall_tfc_clean_30s_lt3000ft_2019_filt10.pkl')\n",
    "tfc_clean = traffic.core.Traffic.from_file('../data/soton_tfc_clean_lt5000ft_201901.pkl')"
   ],
   "metadata": {
    "collapsed": false,
    "pycharm": {
     "name": "#%%\n"
    }
   }
  },
  {
   "cell_type": "code",
   "execution_count": 5,
   "outputs": [
    {
     "ename": "NameError",
     "evalue": "name 'tfc_clean' is not defined",
     "output_type": "error",
     "traceback": [
      "\u001B[0;31m---------------------------------------------------------------------------\u001B[0m",
      "\u001B[0;31mNameError\u001B[0m                                 Traceback (most recent call last)",
      "Input \u001B[0;32mIn [5]\u001B[0m, in \u001B[0;36m<cell line: 1>\u001B[0;34m()\u001B[0m\n\u001B[0;32m----> 1\u001B[0m \u001B[43mtfc_clean\u001B[49m\u001B[38;5;241m.\u001B[39mdata\u001B[38;5;241m.\u001B[39mhead()\n",
      "\u001B[0;31mNameError\u001B[0m: name 'tfc_clean' is not defined"
     ]
    }
   ],
   "source": [
    "tfc_clean.data.head()"
   ],
   "metadata": {
    "collapsed": false,
    "pycharm": {
     "name": "#%%\n"
    }
   }
  },
  {
   "cell_type": "code",
   "execution_count": null,
   "outputs": [],
   "source": [
    "tfc_agg = tfc_clean.compute_xy('epsg:3857').assign(\n",
    "    x=lambda elt: (elt.x // 4000) * 4000,\n",
    "    y=lambda elt: (elt.y // 4000) * 4000,\n",
    ").groupby([\"x\", \"y\"]).agg(altitude_mean=pd.NamedAgg('altitude', np.mean),\n",
    "                          altitude_std=pd.NamedAgg('altitude', np.std), track_mean=pd.NamedAgg('track', np.mean),\n",
    "                          track_std=pd.NamedAgg('track', np.std), groundspeed_mean=pd.NamedAgg('groundspeed', np.mean),\n",
    "                          groundspeed_std=pd.NamedAgg('groundspeed', np.std), flight_id_nunique=('flight_id', 'nunique'))"
   ],
   "metadata": {
    "collapsed": false,
    "pycharm": {
     "name": "#%%\n"
    }
   }
  },
  {
   "cell_type": "code",
   "execution_count": null,
   "outputs": [],
   "source": [
    "tfc_agg.head(10)"
   ],
   "metadata": {
    "collapsed": false,
    "pycharm": {
     "name": "#%%\n"
    }
   }
  },
  {
   "cell_type": "code",
   "execution_count": null,
   "outputs": [],
   "source": [
    "# tfc_agg.to_pickle('../data/cornwall_tfc_clean_30s_lt3000ft_2019_filt10_aggxy.pkl')"
   ],
   "metadata": {
    "collapsed": false,
    "pycharm": {
     "name": "#%%\n"
    }
   }
  },
  {
   "cell_type": "code",
   "execution_count": null,
   "outputs": [],
   "source": [
    "# airprox_gdf = gpd.GeoDataFrame(pd.read_pickle('../data/airprox_asp_2000_2021.pkl'))\n",
    "# tfc_agg = pd.read_pickle('../data/cornwall_tfc_clean_30s_lt3000ft_2019_filt10_aggxy.pkl')\n",
    "pd.__version__"
   ],
   "metadata": {
    "collapsed": false,
    "pycharm": {
     "name": "#%%\n"
    }
   }
  },
  {
   "cell_type": "code",
   "execution_count": null,
   "outputs": [],
   "source": [
    "airprox_gdf.head()"
   ],
   "metadata": {
    "collapsed": false,
    "pycharm": {
     "name": "#%%\n"
    }
   }
  },
  {
   "cell_type": "code",
   "execution_count": null,
   "outputs": [],
   "source": [
    "x_idx = np.array(tfc_agg.index.levels[0])\n",
    "y_idx = np.array(tfc_agg.index.levels[1])\n"
   ],
   "metadata": {
    "collapsed": false,
    "pycharm": {
     "name": "#%%\n"
    }
   }
  },
  {
   "cell_type": "code",
   "execution_count": null,
   "outputs": [],
   "source": [
    "airprox_gdf = airprox_gdf[\n",
    "    (airprox_gdf.Latitude >= tfc_clean.data.latitude.min()) &\n",
    "    (airprox_gdf.Latitude <= tfc_clean.data.latitude.max()) &\n",
    "    (airprox_gdf.Longitude >= tfc_clean.data.longitude.min()) &\n",
    "    (airprox_gdf.Longitude <= tfc_clean.data.longitude.max())]"
   ],
   "metadata": {
    "collapsed": false,
    "pycharm": {
     "name": "#%%\n"
    }
   }
  },
  {
   "cell_type": "code",
   "execution_count": null,
   "outputs": [],
   "source": [
    "tfc_proj = pyproj.Proj(\n",
    "    proj=\"lcc\",\n",
    "    ellps=\"WGS84\",\n",
    "    lat_1=tfc_clean.data.latitude.min(),\n",
    "    lat_2=tfc_clean.data.latitude.max(),\n",
    "    lat_0=tfc_clean.data.latitude.mean(),\n",
    "    lon_0=tfc_clean.data.longitude.mean(),\n",
    ")\n",
    "transformer = pyproj.Transformer.from_proj(pyproj.Proj(\"epsg:4326\"), tfc_proj, always_xy=True)\n",
    "x, y = transformer.transform(\n",
    "    airprox_gdf.Longitude.values,\n",
    "    airprox_gdf.Latitude.values,\n",
    ")\n",
    "airprox_gdf = airprox_gdf.assign(x=x, y=y)"
   ],
   "metadata": {
    "collapsed": false,
    "pycharm": {
     "name": "#%%\n"
    }
   }
  },
  {
   "cell_type": "code",
   "execution_count": null,
   "outputs": [],
   "source": [
    "airprox_gdf"
   ],
   "metadata": {
    "collapsed": false,
    "pycharm": {
     "name": "#%%\n"
    }
   }
  },
  {
   "cell_type": "code",
   "execution_count": null,
   "outputs": [],
   "source": [
    "tfc_grid = np.array(tfc_agg.reset_index()[['x', 'y']])\n",
    "airprox_locs = np.array(airprox_gdf[['x', 'y']])"
   ],
   "metadata": {
    "collapsed": false,
    "pycharm": {
     "name": "#%%\n"
    }
   }
  },
  {
   "cell_type": "code",
   "execution_count": null,
   "outputs": [],
   "source": [
    "tfc_idxs = cdist(tfc_grid, airprox_locs).argmin(axis=0)"
   ],
   "metadata": {
    "collapsed": false,
    "pycharm": {
     "name": "#%%\n"
    }
   }
  },
  {
   "cell_type": "code",
   "execution_count": null,
   "outputs": [],
   "source": [
    "tfc_cells = tfc_agg.iloc[tfc_idxs]\n",
    "airproxes_with_tfc = pd.concat([airprox_gdf.reset_index(), tfc_cells.reset_index()], axis=1)\n",
    "airproxes_with_tfc = airproxes_with_tfc.drop(labels=['index', 'index_right', 'x', 'y', 'country'], axis=1)\n",
    "airproxes_with_tfc"
   ],
   "metadata": {
    "collapsed": false,
    "pycharm": {
     "name": "#%%\n"
    }
   }
  },
  {
   "cell_type": "code",
   "execution_count": null,
   "outputs": [],
   "source": [
    "import matplotlib as mpl\n",
    "import matplotlib.pyplot as plt\n",
    "\n",
    "mpl.rc('font', size=20)\n",
    "fig = plt.figure(figsize=(10, 8))\n",
    "ax = fig.add_axes([0, 0, 6, 6])\n",
    "axx = fig.add_axes([0, 6.1, 4.8, 1], sharex=ax)\n",
    "axy = fig.add_axes([6.1, 0, 1, 6], sharey=ax)\n",
    "tfc_agg.reset_index().plot('x', 'y', kind='hexbin', gridsize=100, bins='log', ax=ax, cmap='inferno')\n",
    "tfc_agg.reset_index()['x'].hist(ax=axx, bins=32)\n",
    "tfc_agg.reset_index()['y'].hist(ax=axy, orientation='horizontal', bins=32)"
   ],
   "metadata": {
    "collapsed": false,
    "pycharm": {
     "name": "#%%\n"
    }
   }
  },
  {
   "cell_type": "code",
   "execution_count": null,
   "outputs": [],
   "source": [
    "airproxes_with_tfc.explore('track_mean', cmap='inferno')"
   ],
   "metadata": {
    "collapsed": false,
    "pycharm": {
     "name": "#%%\n"
    }
   }
  },
  {
   "cell_type": "code",
   "execution_count": null,
   "outputs": [],
   "source": [
    "airproxes_with_tfc.dtypes"
   ],
   "metadata": {
    "collapsed": false,
    "pycharm": {
     "name": "#%%\n"
    }
   }
  },
  {
   "cell_type": "code",
   "execution_count": null,
   "outputs": [],
   "source": [
    "# corr = airproxes_with_tfc.corr(method='spearman')\n",
    "corr = airproxes_with_tfc.apply(lambda x: pd.factorize(x)[0]).corr(method='pearson', min_periods=1)\n",
    "fig, ax = plt.subplots(figsize=(40, 40))\n",
    "sns.heatmap(corr, square=True, cmap=sns.color_palette('icefire', as_cmap=True), annot=True, ax=ax)\n",
    "plt.savefig('corr.svg', dpi=500)"
   ],
   "metadata": {
    "collapsed": false,
    "pycharm": {
     "name": "#%%\n"
    }
   }
  },
  {
   "cell_type": "code",
   "execution_count": null,
   "outputs": [],
   "source": [
    "tfc_agg.describe()"
   ],
   "metadata": {
    "collapsed": false,
    "pycharm": {
     "name": "#%%\n"
    }
   }
  },
  {
   "cell_type": "code",
   "execution_count": null,
   "outputs": [],
   "source": [],
   "metadata": {
    "collapsed": false,
    "pycharm": {
     "name": "#%%\n"
    }
   }
  }
 ],
 "metadata": {
  "kernelspec": {
   "display_name": "Python 3",
   "language": "python",
   "name": "python3"
  },
  "language_info": {
   "codemirror_mode": {
    "name": "ipython",
    "version": 2
   },
   "file_extension": ".py",
   "mimetype": "text/x-python",
   "name": "python",
   "nbconvert_exporter": "python",
   "pygments_lexer": "ipython2",
   "version": "2.7.6"
  }
 },
 "nbformat": 4,
 "nbformat_minor": 0
}