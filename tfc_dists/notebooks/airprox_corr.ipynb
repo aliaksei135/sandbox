{
 "cells": [
  {
   "cell_type": "markdown",
   "source": [
    "\n",
    "# Traffic and Airprox Correlations\n",
    "> Author: A.Pilko@soton.ac.uk\n",
    "\n",
    "2019 Air traffic data and 2000-2021 airprox data is used to investigate correlations in the datasets.\n",
    "\n",
    "## Hypotheses:\n",
    "- Airprox locations will have less ordered traffic flow, concretely the variance of traffic direction will positively correlate with airprox locations\n",
    "- Airprox locations will positively correlate with traffic density\n",
    "- Airprox locations will positively correlate with mean traffic flow speed\n",
    "- Airprox locations will positively correlate with the variance of the flow speed\n"
   ],
   "metadata": {
    "collapsed": false
   }
  },
  {
   "cell_type": "markdown",
   "source": [
    "Import required libraries and pre-cleaned data"
   ],
   "metadata": {
    "collapsed": false
   }
  },
  {
   "cell_type": "code",
   "execution_count": 1,
   "outputs": [
    {
     "ename": "VersionConflict",
     "evalue": "(rich 12.6.0 (c:\\anaconda3\\envs\\sandbox\\lib\\site-packages), Requirement.parse('rich<12.0.0,>=11.2.0'))",
     "output_type": "error",
     "traceback": [
      "\u001B[1;31m---------------------------------------------------------------------------\u001B[0m",
      "\u001B[1;31mVersionConflict\u001B[0m                           Traceback (most recent call last)",
      "Input \u001B[1;32mIn [1]\u001B[0m, in \u001B[0;36m<cell line: 4>\u001B[1;34m()\u001B[0m\n\u001B[0;32m      2\u001B[0m \u001B[38;5;28;01mimport\u001B[39;00m \u001B[38;5;21;01mpandas\u001B[39;00m \u001B[38;5;28;01mas\u001B[39;00m \u001B[38;5;21;01mpd\u001B[39;00m\n\u001B[0;32m      3\u001B[0m \u001B[38;5;28;01mimport\u001B[39;00m \u001B[38;5;21;01mseaborn\u001B[39;00m \u001B[38;5;28;01mas\u001B[39;00m \u001B[38;5;21;01msns\u001B[39;00m\n\u001B[1;32m----> 4\u001B[0m \u001B[38;5;28;01mimport\u001B[39;00m \u001B[38;5;21;01mtraffic\u001B[39;00m\n\u001B[0;32m      5\u001B[0m \u001B[38;5;28;01mimport\u001B[39;00m \u001B[38;5;21;01mnumpy\u001B[39;00m \u001B[38;5;28;01mas\u001B[39;00m \u001B[38;5;21;01mnp\u001B[39;00m\n\u001B[0;32m      6\u001B[0m \u001B[38;5;28;01mimport\u001B[39;00m \u001B[38;5;21;01mpyproj\u001B[39;00m\n",
      "File \u001B[1;32mC:\\ANACON~1\\envs\\sandbox\\lib\\site-packages\\traffic\\__init__.py:101\u001B[0m, in \u001B[0;36m<module>\u001B[1;34m\u001B[0m\n\u001B[0;32m     99\u001B[0m \u001B[38;5;28;01mfor\u001B[39;00m entry_point \u001B[38;5;129;01min\u001B[39;00m pkg_resources\u001B[38;5;241m.\u001B[39miter_entry_points(\u001B[38;5;124m\"\u001B[39m\u001B[38;5;124mtraffic.plugins\u001B[39m\u001B[38;5;124m\"\u001B[39m):\n\u001B[0;32m    100\u001B[0m     \u001B[38;5;28;01mif\u001B[39;00m entry_point\u001B[38;5;241m.\u001B[39mname\u001B[38;5;241m.\u001B[39mreplace(\u001B[38;5;124m\"\u001B[39m\u001B[38;5;124m-\u001B[39m\u001B[38;5;124m\"\u001B[39m, \u001B[38;5;124m\"\u001B[39m\u001B[38;5;124m\"\u001B[39m)\u001B[38;5;241m.\u001B[39mlower() \u001B[38;5;129;01min\u001B[39;00m _selected:\n\u001B[1;32m--> 101\u001B[0m         handle \u001B[38;5;241m=\u001B[39m \u001B[43mentry_point\u001B[49m\u001B[38;5;241;43m.\u001B[39;49m\u001B[43mload\u001B[49m\u001B[43m(\u001B[49m\u001B[43m)\u001B[49m\n\u001B[0;32m    102\u001B[0m         logging\u001B[38;5;241m.\u001B[39minfo(\u001B[38;5;124mf\u001B[39m\u001B[38;5;124m\"\u001B[39m\u001B[38;5;124mLoading plugin: \u001B[39m\u001B[38;5;132;01m{\u001B[39;00mhandle\u001B[38;5;241m.\u001B[39m\u001B[38;5;18m__name__\u001B[39m\u001B[38;5;132;01m}\u001B[39;00m\u001B[38;5;124m\"\u001B[39m)\n\u001B[0;32m    103\u001B[0m         load \u001B[38;5;241m=\u001B[39m \u001B[38;5;28mgetattr\u001B[39m(handle, \u001B[38;5;124m\"\u001B[39m\u001B[38;5;124m_onload\u001B[39m\u001B[38;5;124m\"\u001B[39m, \u001B[38;5;28;01mNone\u001B[39;00m)\n",
      "File \u001B[1;32mC:\\ANACON~1\\envs\\sandbox\\lib\\site-packages\\pkg_resources\\__init__.py:2470\u001B[0m, in \u001B[0;36mEntryPoint.load\u001B[1;34m(self, require, *args, **kwargs)\u001B[0m\n\u001B[0;32m   2463\u001B[0m     warnings\u001B[38;5;241m.\u001B[39mwarn(\n\u001B[0;32m   2464\u001B[0m         \u001B[38;5;124m\"\u001B[39m\u001B[38;5;124mParameters to load are deprecated.  Call .resolve and \u001B[39m\u001B[38;5;124m\"\u001B[39m\n\u001B[0;32m   2465\u001B[0m         \u001B[38;5;124m\"\u001B[39m\u001B[38;5;124m.require separately.\u001B[39m\u001B[38;5;124m\"\u001B[39m,\n\u001B[0;32m   2466\u001B[0m         PkgResourcesDeprecationWarning,\n\u001B[0;32m   2467\u001B[0m         stacklevel\u001B[38;5;241m=\u001B[39m\u001B[38;5;241m2\u001B[39m,\n\u001B[0;32m   2468\u001B[0m     )\n\u001B[0;32m   2469\u001B[0m \u001B[38;5;28;01mif\u001B[39;00m require:\n\u001B[1;32m-> 2470\u001B[0m     \u001B[38;5;28mself\u001B[39m\u001B[38;5;241m.\u001B[39mrequire(\u001B[38;5;241m*\u001B[39margs, \u001B[38;5;241m*\u001B[39m\u001B[38;5;241m*\u001B[39mkwargs)\n\u001B[0;32m   2471\u001B[0m \u001B[38;5;28;01mreturn\u001B[39;00m \u001B[38;5;28mself\u001B[39m\u001B[38;5;241m.\u001B[39mresolve()\n",
      "File \u001B[1;32mC:\\ANACON~1\\envs\\sandbox\\lib\\site-packages\\pkg_resources\\__init__.py:2493\u001B[0m, in \u001B[0;36mEntryPoint.require\u001B[1;34m(self, env, installer)\u001B[0m\n\u001B[0;32m   2487\u001B[0m \u001B[38;5;66;03m# Get the requirements for this entry point with all its extras and\u001B[39;00m\n\u001B[0;32m   2488\u001B[0m \u001B[38;5;66;03m# then resolve them. We have to pass `extras` along when resolving so\u001B[39;00m\n\u001B[0;32m   2489\u001B[0m \u001B[38;5;66;03m# that the working set knows what extras we want. Otherwise, for\u001B[39;00m\n\u001B[0;32m   2490\u001B[0m \u001B[38;5;66;03m# dist-info distributions, the working set will assume that the\u001B[39;00m\n\u001B[0;32m   2491\u001B[0m \u001B[38;5;66;03m# requirements for that extra are purely optional and skip over them.\u001B[39;00m\n\u001B[0;32m   2492\u001B[0m reqs \u001B[38;5;241m=\u001B[39m \u001B[38;5;28mself\u001B[39m\u001B[38;5;241m.\u001B[39mdist\u001B[38;5;241m.\u001B[39mrequires(\u001B[38;5;28mself\u001B[39m\u001B[38;5;241m.\u001B[39mextras)\n\u001B[1;32m-> 2493\u001B[0m items \u001B[38;5;241m=\u001B[39m \u001B[43mworking_set\u001B[49m\u001B[38;5;241;43m.\u001B[39;49m\u001B[43mresolve\u001B[49m\u001B[43m(\u001B[49m\u001B[43mreqs\u001B[49m\u001B[43m,\u001B[49m\u001B[43m \u001B[49m\u001B[43menv\u001B[49m\u001B[43m,\u001B[49m\u001B[43m \u001B[49m\u001B[43minstaller\u001B[49m\u001B[43m,\u001B[49m\u001B[43m \u001B[49m\u001B[43mextras\u001B[49m\u001B[38;5;241;43m=\u001B[39;49m\u001B[38;5;28;43mself\u001B[39;49m\u001B[38;5;241;43m.\u001B[39;49m\u001B[43mextras\u001B[49m\u001B[43m)\u001B[49m\n\u001B[0;32m   2494\u001B[0m \u001B[38;5;28mlist\u001B[39m(\u001B[38;5;28mmap\u001B[39m(working_set\u001B[38;5;241m.\u001B[39madd, items))\n",
      "File \u001B[1;32mC:\\ANACON~1\\envs\\sandbox\\lib\\site-packages\\pkg_resources\\__init__.py:800\u001B[0m, in \u001B[0;36mWorkingSet.resolve\u001B[1;34m(self, requirements, env, installer, replace_conflicting, extras)\u001B[0m\n\u001B[0;32m    797\u001B[0m \u001B[38;5;28;01mif\u001B[39;00m dist \u001B[38;5;129;01mnot\u001B[39;00m \u001B[38;5;129;01min\u001B[39;00m req:\n\u001B[0;32m    798\u001B[0m     \u001B[38;5;66;03m# Oops, the \"best\" so far conflicts with a dependency\u001B[39;00m\n\u001B[0;32m    799\u001B[0m     dependent_req \u001B[38;5;241m=\u001B[39m required_by[req]\n\u001B[1;32m--> 800\u001B[0m     \u001B[38;5;28;01mraise\u001B[39;00m VersionConflict(dist, req)\u001B[38;5;241m.\u001B[39mwith_context(dependent_req)\n\u001B[0;32m    802\u001B[0m \u001B[38;5;66;03m# push the new requirements onto the stack\u001B[39;00m\n\u001B[0;32m    803\u001B[0m new_requirements \u001B[38;5;241m=\u001B[39m dist\u001B[38;5;241m.\u001B[39mrequires(req\u001B[38;5;241m.\u001B[39mextras)[::\u001B[38;5;241m-\u001B[39m\u001B[38;5;241m1\u001B[39m]\n",
      "\u001B[1;31mVersionConflict\u001B[0m: (rich 12.6.0 (c:\\anaconda3\\envs\\sandbox\\lib\\site-packages), Requirement.parse('rich<12.0.0,>=11.2.0'))"
     ]
    }
   ],
   "source": [
    "import geopandas as gpd\n",
    "import pandas as pd\n",
    "import seaborn as sns\n",
    "import traffic\n",
    "import numpy as np\n",
    "import pyproj\n",
    "from scipy.spatial.distance import cdist\n",
    "import matplotlib.pyplot as plt\n",
    "import joblib as jl\n",
    "\n",
    "from cartopy.crs import Projection\n",
    "from traffic.drawing import countries, lakes, ocean\n",
    "from traffic.data import airports\n",
    "\n",
    "%matplotlib notebook"
   ],
   "metadata": {
    "collapsed": false
   }
  },
  {
   "cell_type": "code",
   "execution_count": null,
   "outputs": [],
   "source": [
    "airprox_gdf = gpd.GeoDataFrame(pd.read_pickle('../data/airprox_asp_2000_2021.pkl'))\n",
    "# tfc_clean = traffic.core.Traffic.from_file('../data/cornwall/cornwall_tfc_clean_30s_lt3000ft_2019_f16.pkl.bz2')\n",
    "tfc_clean = traffic.core.Traffic.from_file('../data/southeng/southeng_tfc_clean_lt5000ft_2019.pkl.bz2')"
   ],
   "metadata": {
    "collapsed": false
   }
  },
  {
   "cell_type": "code",
   "execution_count": null,
   "outputs": [],
   "source": [
    "tfc_df = tfc_clean.data\n",
    "tfc_df = tfc_df.dropna(axis=0)\n",
    "tfc_df = tfc_df[(tfc_df['altitude'] > 0) & (tfc_df['altitude'] <= 1524)]\n",
    "tfc_clean = traffic.core.Traffic(tfc_df)"
   ],
   "metadata": {
    "collapsed": false
   }
  },
  {
   "cell_type": "code",
   "execution_count": null,
   "outputs": [],
   "source": [
    "# tfc_clean_data = pd.read_pickle('../data/cornwall/cornwall_tfc_clean_30s_lt3000ft_2019_f16.pkl.bz2')"
   ],
   "metadata": {
    "collapsed": false
   }
  },
  {
   "cell_type": "code",
   "execution_count": null,
   "outputs": [],
   "source": [
    "tfc_clean.data.describe()"
   ],
   "metadata": {
    "collapsed": false
   }
  },
  {
   "cell_type": "markdown",
   "source": [
    "## Airspace\n",
    "\n",
    "There isn't much point analysing the traffic patterns for controlled airspace where ATC are issuing instructions or aircraft are (usually) following standard routes (SIDs, STARs). The UK airspace is used to filter out the traffic state vectors that are located in controlled airspace. All the traffic that is only in uncontrolled airspace is then used for the actual analysis."
   ],
   "metadata": {
    "collapsed": false
   }
  },
  {
   "cell_type": "code",
   "execution_count": null,
   "outputs": [],
   "source": [
    "import requests\n",
    "\n",
    "req = requests.get('https://storage.googleapis.com/29f98e10-a489-4c82-ae5e-489dbcd4912f/gb_asp.geojson')\n",
    "with open('gb_asp.geojson', 'w') as f:\n",
    "    f.write(req.text)"
   ],
   "metadata": {
    "collapsed": false
   }
  },
  {
   "cell_type": "code",
   "execution_count": null,
   "outputs": [],
   "source": [
    "ASP_TYPES = {\n",
    "    0: \"Other\",\n",
    "    1: \"Restricted\",\n",
    "    2: \"Danger\",\n",
    "    3: \"Prohibited\",\n",
    "    4: \"Controlled Tower Region (CTR)\",\n",
    "    5: \"Transponder Mandatory Zone (TMZ)\",\n",
    "    6: \"Radio Mandatory Zone (RMZ)\",\n",
    "    7: \"Terminal Maneuvering Area (TMA)\",\n",
    "    8: \"Temporary Reserved Area (TRA)\",\n",
    "    9: \"Temporary Segregated Area (TSA)\",\n",
    "    10: \"Flight Information Region (FIR)\",\n",
    "    11: \"Upper Flight Information Region (UIR)\",\n",
    "    12: \"Air Defense Identification Zone (ADIZ)\",\n",
    "    13: \"Airport Traffic Zone (ATZ)\",\n",
    "    14: \"Military Airport Traffic Zone (MATZ)\",\n",
    "    15: \"Airway\",\n",
    "    16: \"Military Training Route (MTR)\",\n",
    "    17: \"Alert Area\",\n",
    "    18: \"Warning Area\",\n",
    "    19: \"Protected Area\",\n",
    "    20: \"Helicopter Traffic Zone (HTZ)\",\n",
    "    21: \"Gliding Sector\",\n",
    "    22: \"Transponder Setting (TRP)\",\n",
    "    23: \"Traffic Information Zone (TIZ)\",\n",
    "    24: \"Traffic Information Area (TIA)\",\n",
    "    25: \"Military Training Area (MTA)\",\n",
    "    26: \"Controlled Area (CTA)\",\n",
    "    27: \"ACC Sector (ACC)\",\n",
    "    28: \"Aerial Sporting Or Recreational Activity\",\n",
    "    29: \"Low Altitude Overflight Restriction\"\n",
    "}\n",
    "\n",
    "ASP_CLASS = {\n",
    "    0: \"A\",\n",
    "    1: \"B\",\n",
    "    2: \"C\",\n",
    "    3: \"D\",\n",
    "    4: \"E\",\n",
    "    5: \"F\",\n",
    "    6: \"G\",\n",
    "    7: \"Special Use Airspace (SUA)\",\n",
    "    8: \"Unclassified\"\n",
    "}\n",
    "\n",
    "ASP_ACTIVITIES = {\n",
    "    0: \"None - No specific activity (default)\",\n",
    "    1: \"Parachuting Activity\",\n",
    "    2: \"Aerobatics Activity\",\n",
    "    3: \"Aeroclub And Arial Work Area\",\n",
    "    4: \"Ultra Light Machine (ULM) Activity\",\n",
    "    5: \"Hang Gliding/Paragliding\"\n",
    "}\n",
    "\n",
    "ASP_ALT_UNIT = {\n",
    "    0: \"Meter\",\n",
    "    1: \"Feet\",\n",
    "    6: \"Flight Level\",\n",
    "}\n",
    "\n",
    "ASP_ALT_DATUM = {\n",
    "    0: \"GND\",\n",
    "    1: \"MSL\",\n",
    "    2: \"STD\",\n",
    "}"
   ],
   "metadata": {
    "collapsed": false
   }
  },
  {
   "cell_type": "code",
   "execution_count": null,
   "outputs": [],
   "source": [
    "asp_gdf = gpd.read_file('gb_asp.geojson')\n",
    "asp_gdf = asp_gdf[(asp_gdf['approved'] == True) & (asp_gdf['onDemand'] == False) & (asp_gdf['onRequest'] == False) & (\n",
    "        asp_gdf['byNotam'] == False) & (asp_gdf['specialAgreement'] == False) & (asp_gdf['icaoClass'] < 4)]\n",
    "asp_gdf = asp_gdf.cx[\n",
    "          tfc_clean.data.longitude.min():tfc_clean.data.longitude.max(),\n",
    "          tfc_clean.data.latitude.min(): tfc_clean.data.latitude.max()\n",
    "          ].reset_index()\n",
    "asp_upper_lims = pd.DataFrame(pd.json_normalize(asp_gdf.upperLimit))\n",
    "asp_lower_lims = pd.DataFrame(pd.json_normalize(asp_gdf.lowerLimit))\n",
    "asp_upper_lims.columns = ['upperLimit_value', 'upperLimit_unit', 'upperLimit_ref']\n",
    "asp_lower_lims.columns = ['lowerLimit_value', 'lowerLimit_unit', 'lowerLimit_ref']\n",
    "asp_lim_df = pd.concat([asp_lower_lims, asp_upper_lims], axis=1)\n",
    "asp_gdf = pd.concat([asp_gdf, asp_lim_df], axis=1)\n",
    "asp_gdf = asp_gdf.drop(\n",
    "    labels=['_id', 'approved', 'specialAgreement', 'onDemand', 'onRequest', 'byNotam', 'createdAt', 'createdBy',\n",
    "            'updatedAt', 'updatedBy', 'upperLimit', 'lowerLimit'], axis=1)\n",
    "for col in ['type', 'icaoClass', 'activity']:\n",
    "    asp_gdf[col] = pd.Categorical(asp_gdf[col])\n",
    "asp_gdf['type'] = asp_gdf['type'].cat.rename_categories(ASP_TYPES)\n",
    "asp_gdf['icaoClass'] = asp_gdf['icaoClass'].cat.rename_categories(ASP_CLASS)\n",
    "asp_gdf['activity'] = asp_gdf['activity'].cat.rename_categories(ASP_ACTIVITIES)\n",
    "asp_gdf"
   ],
   "metadata": {
    "collapsed": false
   }
  },
  {
   "cell_type": "code",
   "execution_count": null,
   "outputs": [],
   "source": [
    "def alt_std(row):\n",
    "    cr = row.copy()\n",
    "    if cr['upperLimit_unit'] == 1:\n",
    "        cr['upperLimit_value'] /= 3.28084\n",
    "    elif cr['upperLimit_unit'] == 6:\n",
    "        cr['upperLimit_value'] *= 100/3.28084\n",
    "\n",
    "    if cr['lowerLimit_unit'] == 1:\n",
    "        cr['lowerLimit_value'] /= 3.28084\n",
    "    elif cr['lowerLimit_unit'] == 6:\n",
    "        cr['lowerLimit_value'] *= 100/3.28084\n",
    "\n",
    "    return cr\n",
    "\n",
    "\n",
    "asp_gdf = asp_gdf.apply(alt_std, axis=1).dropna()\n",
    "asp_gdf = asp_gdf[asp_gdf['lowerLimit_value'] <= tfc_clean.data['altitude'].max()]\n",
    "asp_gdf = asp_gdf.drop(labels=['upperLimit_unit', 'upperLimit_ref', 'lowerLimit_unit', 'lowerLimit_ref', 'index'], axis=1)\n",
    "\n",
    "asp_gdf"
   ],
   "metadata": {
    "collapsed": false
   }
  },
  {
   "cell_type": "code",
   "execution_count": null,
   "outputs": [],
   "source": [
    "tfc_gdf = gpd.GeoDataFrame(tfc_clean.data,\n",
    "                           geometry=gpd.points_from_xy(tfc_clean.data['longitude'], tfc_clean.data['latitude']), crs='epsg:4326')"
   ],
   "metadata": {
    "collapsed": false
   }
  },
  {
   "cell_type": "code",
   "execution_count": null,
   "outputs": [],
   "source": [
    "# del tfc_clean, airprox_gdf, asp_lower_lims, asp_upper_lims, tfc_df, asp_lim_df"
   ],
   "metadata": {
    "collapsed": false
   }
  },
  {
   "cell_type": "markdown",
   "source": [
    "Since shapely only supports 2D geometries, we need to get creative to filter based on 3D airspace volumes. We iterate airspaces and select all traffic that is between the floor and ceiling of that airspace. A 2D point-in-polygon test is then run as usual.\n",
    "\n",
    "This takes a decent chunk of time..."
   ],
   "metadata": {
    "collapsed": false
   }
  },
  {
   "cell_type": "code",
   "execution_count": null,
   "outputs": [],
   "source": [
    "def tfc_within(lim_asp):\n",
    "    lim_tfc = tfc_gdf[\n",
    "        (tfc_gdf['altitude'] >= lim_asp['lowerLimit_value']) & (tfc_gdf['altitude'] <= lim_asp['upperLimit_value'])]\n",
    "    print(lim_asp['name'])\n",
    "    return lim_tfc.sjoin(gpd.GeoDataFrame(lim_asp.to_frame().T).set_crs(asp_gdf.crs), predicate='within')\n",
    "\n",
    "\n",
    "# joined_dfs = jl.Parallel(n_jobs=-1, verbose=20)(jl.delayed(tfc_within)(lim_asp) for _, lim_asp in list(asp_gdf.iterrows()))\n",
    "\n",
    "joined_dfs = [tfc_within(lim_asp) for _, lim_asp in asp_gdf.iterrows()]\n",
    "\n",
    "con_asp_tfc_gdf = pd.concat(joined_dfs, axis=0)"
   ],
   "metadata": {
    "collapsed": false
   }
  },
  {
   "cell_type": "code",
   "execution_count": null,
   "outputs": [],
   "source": [
    "con_asp_tfc_gdf.to_pickle('../data/southeng/southeng_con_asp_tfc_2019.pkl.bz2', compression='bz2')\n",
    "print(con_asp_tfc_gdf.shape)\n",
    "con_asp_tfc_gdf.head()"
   ],
   "metadata": {
    "collapsed": false
   }
  },
  {
   "cell_type": "code",
   "execution_count": null,
   "outputs": [],
   "source": [
    "unc_asp_tfc_gdf = pd.merge(tfc_gdf, con_asp_tfc_gdf, how=\"outer\", indicator=True\n",
    "                           ).query('_merge==\"left_only\"').drop(labels=['_merge'], axis=1)\n",
    "unc_asp_tfc_gdf"
   ],
   "metadata": {
    "collapsed": false
   }
  },
  {
   "cell_type": "code",
   "execution_count": 2,
   "outputs": [],
   "source": [
    "# unc_asp_tfc_gdf.to_pickle('../data/southeng/southeng_unc_asp_tfc_2019.pkl.bz2', compression='bz2')\n",
    "unc_asp_tfc_gdf = pd.read_pickle('../data/southeng/southeng_unc_asp_tfc_2019.pkl.bz2', compression='bz2')"
   ],
   "metadata": {
    "collapsed": false
   }
  },
  {
   "cell_type": "code",
   "execution_count": 3,
   "outputs": [
    {
     "ename": "KeyError",
     "evalue": "\"['index_right', 'country', 'lowerLimit_value', 'upperLimit_value', 'activity'] not found in axis\"",
     "output_type": "error",
     "traceback": [
      "\u001B[1;31m---------------------------------------------------------------------------\u001B[0m",
      "\u001B[1;31mKeyError\u001B[0m                                  Traceback (most recent call last)",
      "Input \u001B[1;32mIn [3]\u001B[0m, in \u001B[0;36m<cell line: 7>\u001B[1;34m()\u001B[0m\n\u001B[0;32m      4\u001B[0m \u001B[38;5;66;03m# unc_asp_tfc_gdf = unc_asp_tfc_gdf.dropna(axis=0)\u001B[39;00m\n\u001B[0;32m      5\u001B[0m unc_asp_tfc_gdf \u001B[38;5;241m=\u001B[39m unc_asp_tfc_gdf[(unc_asp_tfc_gdf[\u001B[38;5;124m'\u001B[39m\u001B[38;5;124maltitude\u001B[39m\u001B[38;5;124m'\u001B[39m] \u001B[38;5;241m>\u001B[39m \u001B[38;5;241m0\u001B[39m) \u001B[38;5;241m&\u001B[39m (unc_asp_tfc_gdf[\u001B[38;5;124m'\u001B[39m\u001B[38;5;124maltitude\u001B[39m\u001B[38;5;124m'\u001B[39m] \u001B[38;5;241m<\u001B[39m\u001B[38;5;241m=\u001B[39m \u001B[38;5;241m304.8\u001B[39m\u001B[38;5;241m*\u001B[39m\u001B[38;5;241m4\u001B[39m)]\n\u001B[1;32m----> 7\u001B[0m unc_asp_tfc_gdf \u001B[38;5;241m=\u001B[39m \u001B[43munc_asp_tfc_gdf\u001B[49m\u001B[38;5;241;43m.\u001B[39;49m\u001B[43mdrop\u001B[49m\u001B[43m(\u001B[49m\n\u001B[0;32m      8\u001B[0m \u001B[43m    \u001B[49m\u001B[43mlabels\u001B[49m\u001B[38;5;241;43m=\u001B[39;49m\u001B[43m[\u001B[49m\u001B[38;5;124;43m'\u001B[39;49m\u001B[38;5;124;43mindex_right\u001B[39;49m\u001B[38;5;124;43m'\u001B[39;49m\u001B[43m,\u001B[49m\u001B[43m \u001B[49m\u001B[38;5;124;43m'\u001B[39;49m\u001B[38;5;124;43mcountry\u001B[39;49m\u001B[38;5;124;43m'\u001B[39;49m\u001B[43m,\u001B[49m\u001B[43m \u001B[49m\u001B[38;5;124;43m'\u001B[39;49m\u001B[38;5;124;43mlowerLimit_value\u001B[39;49m\u001B[38;5;124;43m'\u001B[39;49m\u001B[43m,\u001B[49m\u001B[43m \u001B[49m\u001B[38;5;124;43m'\u001B[39;49m\u001B[38;5;124;43mupperLimit_value\u001B[39;49m\u001B[38;5;124;43m'\u001B[39;49m\u001B[43m,\u001B[49m\u001B[43m \u001B[49m\u001B[38;5;124;43m'\u001B[39;49m\u001B[38;5;124;43mactivity\u001B[39;49m\u001B[38;5;124;43m'\u001B[39;49m\u001B[43m]\u001B[49m\u001B[43m,\u001B[49m\u001B[43m \u001B[49m\u001B[43maxis\u001B[49m\u001B[38;5;241;43m=\u001B[39;49m\u001B[38;5;241;43m1\u001B[39;49m\u001B[43m)\u001B[49m\n",
      "File \u001B[1;32mC:\\ANACON~1\\envs\\sandbox\\lib\\site-packages\\pandas\\util\\_decorators.py:311\u001B[0m, in \u001B[0;36mdeprecate_nonkeyword_arguments.<locals>.decorate.<locals>.wrapper\u001B[1;34m(*args, **kwargs)\u001B[0m\n\u001B[0;32m    305\u001B[0m \u001B[38;5;28;01mif\u001B[39;00m \u001B[38;5;28mlen\u001B[39m(args) \u001B[38;5;241m>\u001B[39m num_allow_args:\n\u001B[0;32m    306\u001B[0m     warnings\u001B[38;5;241m.\u001B[39mwarn(\n\u001B[0;32m    307\u001B[0m         msg\u001B[38;5;241m.\u001B[39mformat(arguments\u001B[38;5;241m=\u001B[39marguments),\n\u001B[0;32m    308\u001B[0m         \u001B[38;5;167;01mFutureWarning\u001B[39;00m,\n\u001B[0;32m    309\u001B[0m         stacklevel\u001B[38;5;241m=\u001B[39mstacklevel,\n\u001B[0;32m    310\u001B[0m     )\n\u001B[1;32m--> 311\u001B[0m \u001B[38;5;28;01mreturn\u001B[39;00m func(\u001B[38;5;241m*\u001B[39margs, \u001B[38;5;241m*\u001B[39m\u001B[38;5;241m*\u001B[39mkwargs)\n",
      "File \u001B[1;32mC:\\ANACON~1\\envs\\sandbox\\lib\\site-packages\\pandas\\core\\frame.py:4954\u001B[0m, in \u001B[0;36mDataFrame.drop\u001B[1;34m(self, labels, axis, index, columns, level, inplace, errors)\u001B[0m\n\u001B[0;32m   4806\u001B[0m \u001B[38;5;129m@deprecate_nonkeyword_arguments\u001B[39m(version\u001B[38;5;241m=\u001B[39m\u001B[38;5;28;01mNone\u001B[39;00m, allowed_args\u001B[38;5;241m=\u001B[39m[\u001B[38;5;124m\"\u001B[39m\u001B[38;5;124mself\u001B[39m\u001B[38;5;124m\"\u001B[39m, \u001B[38;5;124m\"\u001B[39m\u001B[38;5;124mlabels\u001B[39m\u001B[38;5;124m\"\u001B[39m])\n\u001B[0;32m   4807\u001B[0m \u001B[38;5;28;01mdef\u001B[39;00m \u001B[38;5;21mdrop\u001B[39m(\n\u001B[0;32m   4808\u001B[0m     \u001B[38;5;28mself\u001B[39m,\n\u001B[1;32m   (...)\u001B[0m\n\u001B[0;32m   4815\u001B[0m     errors: \u001B[38;5;28mstr\u001B[39m \u001B[38;5;241m=\u001B[39m \u001B[38;5;124m\"\u001B[39m\u001B[38;5;124mraise\u001B[39m\u001B[38;5;124m\"\u001B[39m,\n\u001B[0;32m   4816\u001B[0m ):\n\u001B[0;32m   4817\u001B[0m     \u001B[38;5;124;03m\"\"\"\u001B[39;00m\n\u001B[0;32m   4818\u001B[0m \u001B[38;5;124;03m    Drop specified labels from rows or columns.\u001B[39;00m\n\u001B[0;32m   4819\u001B[0m \n\u001B[1;32m   (...)\u001B[0m\n\u001B[0;32m   4952\u001B[0m \u001B[38;5;124;03m            weight  1.0     0.8\u001B[39;00m\n\u001B[0;32m   4953\u001B[0m \u001B[38;5;124;03m    \"\"\"\u001B[39;00m\n\u001B[1;32m-> 4954\u001B[0m     \u001B[38;5;28;01mreturn\u001B[39;00m \u001B[38;5;28;43msuper\u001B[39;49m\u001B[43m(\u001B[49m\u001B[43m)\u001B[49m\u001B[38;5;241;43m.\u001B[39;49m\u001B[43mdrop\u001B[49m\u001B[43m(\u001B[49m\n\u001B[0;32m   4955\u001B[0m \u001B[43m        \u001B[49m\u001B[43mlabels\u001B[49m\u001B[38;5;241;43m=\u001B[39;49m\u001B[43mlabels\u001B[49m\u001B[43m,\u001B[49m\n\u001B[0;32m   4956\u001B[0m \u001B[43m        \u001B[49m\u001B[43maxis\u001B[49m\u001B[38;5;241;43m=\u001B[39;49m\u001B[43maxis\u001B[49m\u001B[43m,\u001B[49m\n\u001B[0;32m   4957\u001B[0m \u001B[43m        \u001B[49m\u001B[43mindex\u001B[49m\u001B[38;5;241;43m=\u001B[39;49m\u001B[43mindex\u001B[49m\u001B[43m,\u001B[49m\n\u001B[0;32m   4958\u001B[0m \u001B[43m        \u001B[49m\u001B[43mcolumns\u001B[49m\u001B[38;5;241;43m=\u001B[39;49m\u001B[43mcolumns\u001B[49m\u001B[43m,\u001B[49m\n\u001B[0;32m   4959\u001B[0m \u001B[43m        \u001B[49m\u001B[43mlevel\u001B[49m\u001B[38;5;241;43m=\u001B[39;49m\u001B[43mlevel\u001B[49m\u001B[43m,\u001B[49m\n\u001B[0;32m   4960\u001B[0m \u001B[43m        \u001B[49m\u001B[43minplace\u001B[49m\u001B[38;5;241;43m=\u001B[39;49m\u001B[43minplace\u001B[49m\u001B[43m,\u001B[49m\n\u001B[0;32m   4961\u001B[0m \u001B[43m        \u001B[49m\u001B[43merrors\u001B[49m\u001B[38;5;241;43m=\u001B[39;49m\u001B[43merrors\u001B[49m\u001B[43m,\u001B[49m\n\u001B[0;32m   4962\u001B[0m \u001B[43m    \u001B[49m\u001B[43m)\u001B[49m\n",
      "File \u001B[1;32mC:\\ANACON~1\\envs\\sandbox\\lib\\site-packages\\pandas\\core\\generic.py:4267\u001B[0m, in \u001B[0;36mNDFrame.drop\u001B[1;34m(self, labels, axis, index, columns, level, inplace, errors)\u001B[0m\n\u001B[0;32m   4265\u001B[0m \u001B[38;5;28;01mfor\u001B[39;00m axis, labels \u001B[38;5;129;01min\u001B[39;00m axes\u001B[38;5;241m.\u001B[39mitems():\n\u001B[0;32m   4266\u001B[0m     \u001B[38;5;28;01mif\u001B[39;00m labels \u001B[38;5;129;01mis\u001B[39;00m \u001B[38;5;129;01mnot\u001B[39;00m \u001B[38;5;28;01mNone\u001B[39;00m:\n\u001B[1;32m-> 4267\u001B[0m         obj \u001B[38;5;241m=\u001B[39m \u001B[43mobj\u001B[49m\u001B[38;5;241;43m.\u001B[39;49m\u001B[43m_drop_axis\u001B[49m\u001B[43m(\u001B[49m\u001B[43mlabels\u001B[49m\u001B[43m,\u001B[49m\u001B[43m \u001B[49m\u001B[43maxis\u001B[49m\u001B[43m,\u001B[49m\u001B[43m \u001B[49m\u001B[43mlevel\u001B[49m\u001B[38;5;241;43m=\u001B[39;49m\u001B[43mlevel\u001B[49m\u001B[43m,\u001B[49m\u001B[43m \u001B[49m\u001B[43merrors\u001B[49m\u001B[38;5;241;43m=\u001B[39;49m\u001B[43merrors\u001B[49m\u001B[43m)\u001B[49m\n\u001B[0;32m   4269\u001B[0m \u001B[38;5;28;01mif\u001B[39;00m inplace:\n\u001B[0;32m   4270\u001B[0m     \u001B[38;5;28mself\u001B[39m\u001B[38;5;241m.\u001B[39m_update_inplace(obj)\n",
      "File \u001B[1;32mC:\\ANACON~1\\envs\\sandbox\\lib\\site-packages\\pandas\\core\\generic.py:4311\u001B[0m, in \u001B[0;36mNDFrame._drop_axis\u001B[1;34m(self, labels, axis, level, errors, consolidate, only_slice)\u001B[0m\n\u001B[0;32m   4309\u001B[0m         new_axis \u001B[38;5;241m=\u001B[39m axis\u001B[38;5;241m.\u001B[39mdrop(labels, level\u001B[38;5;241m=\u001B[39mlevel, errors\u001B[38;5;241m=\u001B[39merrors)\n\u001B[0;32m   4310\u001B[0m     \u001B[38;5;28;01melse\u001B[39;00m:\n\u001B[1;32m-> 4311\u001B[0m         new_axis \u001B[38;5;241m=\u001B[39m \u001B[43maxis\u001B[49m\u001B[38;5;241;43m.\u001B[39;49m\u001B[43mdrop\u001B[49m\u001B[43m(\u001B[49m\u001B[43mlabels\u001B[49m\u001B[43m,\u001B[49m\u001B[43m \u001B[49m\u001B[43merrors\u001B[49m\u001B[38;5;241;43m=\u001B[39;49m\u001B[43merrors\u001B[49m\u001B[43m)\u001B[49m\n\u001B[0;32m   4312\u001B[0m     indexer \u001B[38;5;241m=\u001B[39m axis\u001B[38;5;241m.\u001B[39mget_indexer(new_axis)\n\u001B[0;32m   4314\u001B[0m \u001B[38;5;66;03m# Case for non-unique axis\u001B[39;00m\n\u001B[0;32m   4315\u001B[0m \u001B[38;5;28;01melse\u001B[39;00m:\n",
      "File \u001B[1;32mC:\\ANACON~1\\envs\\sandbox\\lib\\site-packages\\pandas\\core\\indexes\\base.py:6644\u001B[0m, in \u001B[0;36mIndex.drop\u001B[1;34m(self, labels, errors)\u001B[0m\n\u001B[0;32m   6642\u001B[0m \u001B[38;5;28;01mif\u001B[39;00m mask\u001B[38;5;241m.\u001B[39many():\n\u001B[0;32m   6643\u001B[0m     \u001B[38;5;28;01mif\u001B[39;00m errors \u001B[38;5;241m!=\u001B[39m \u001B[38;5;124m\"\u001B[39m\u001B[38;5;124mignore\u001B[39m\u001B[38;5;124m\"\u001B[39m:\n\u001B[1;32m-> 6644\u001B[0m         \u001B[38;5;28;01mraise\u001B[39;00m \u001B[38;5;167;01mKeyError\u001B[39;00m(\u001B[38;5;124mf\u001B[39m\u001B[38;5;124m\"\u001B[39m\u001B[38;5;132;01m{\u001B[39;00m\u001B[38;5;28mlist\u001B[39m(labels[mask])\u001B[38;5;132;01m}\u001B[39;00m\u001B[38;5;124m not found in axis\u001B[39m\u001B[38;5;124m\"\u001B[39m)\n\u001B[0;32m   6645\u001B[0m     indexer \u001B[38;5;241m=\u001B[39m indexer[\u001B[38;5;241m~\u001B[39mmask]\n\u001B[0;32m   6646\u001B[0m \u001B[38;5;28;01mreturn\u001B[39;00m \u001B[38;5;28mself\u001B[39m\u001B[38;5;241m.\u001B[39mdelete(indexer)\n",
      "\u001B[1;31mKeyError\u001B[0m: \"['index_right', 'country', 'lowerLimit_value', 'upperLimit_value', 'activity'] not found in axis\""
     ]
    }
   ],
   "source": [
    "unc_asp_tfc_gdf['type'] = 0\n",
    "unc_asp_tfc_gdf['icaoClass'] = 6\n",
    "unc_asp_tfc_gdf['name'] = 'UNCONTROLLED AIRSPACE'\n",
    "# unc_asp_tfc_gdf = unc_asp_tfc_gdf.dropna(axis=0)\n",
    "unc_asp_tfc_gdf = unc_asp_tfc_gdf[(unc_asp_tfc_gdf['altitude'] > 0) & (unc_asp_tfc_gdf['altitude'] <= 304.8*4)]\n",
    "\n",
    "unc_asp_tfc_gdf = unc_asp_tfc_gdf.drop(\n",
    "    labels=['index_right', 'country', 'lowerLimit_value', 'upperLimit_value', 'activity'], axis=1)"
   ],
   "metadata": {
    "collapsed": false
   }
  },
  {
   "cell_type": "code",
   "execution_count": 4,
   "outputs": [
    {
     "data": {
      "text/plain": "                        timestamp  alert  altitude callsign  geoaltitude  \\\n552     2019-01-01 13:26:30+00:00  False     500.0    FGITZ       1300.0   \n553     2019-01-01 13:27:00+00:00  False     500.0    FGITZ       1250.0   \n554     2019-01-01 13:27:30+00:00  False     200.0    FGITZ        950.0   \n794     2019-01-01 13:30:00+00:00  False     700.0    DIDWC       1375.0   \n795     2019-01-01 13:30:30+00:00  False     275.0    DIDWC       1050.0   \n...                           ...    ...       ...      ...          ...   \n6645874 2019-12-31 13:44:00+00:00  False     200.0   N936CT        875.0   \n6645875 2019-12-31 13:44:30+00:00  False     225.0   N936CT        900.0   \n6645876 2019-12-31 13:45:00+00:00  False     250.0   N936CT        875.0   \n6645877 2019-12-31 13:45:30+00:00  False     175.0   N936CT        825.0   \n6645878 2019-12-31 13:46:00+00:00  False     150.0   N936CT        875.0   \n\n         groundspeed                      hour  icao24  latitude  longitude  \\\n552             89.0 2019-01-01 13:00:00+00:00  392279  51.90625  -2.082031   \n553             75.0 2019-01-01 13:00:00+00:00  392279  51.90625  -2.095703   \n554             78.0 2019-01-01 13:00:00+00:00  392279  51.90625  -2.113281   \n794            138.0 2019-01-01 13:00:00+00:00  3e2172  51.37500   0.060791   \n795            112.0 2019-01-01 13:00:00+00:00  3e2172  51.34375   0.048187   \n...              ...                       ...     ...       ...        ...   \n6645874        131.0 2019-12-31 13:00:00+00:00  acfc37  51.68750   0.169678   \n6645875        137.0 2019-12-31 13:00:00+00:00  acfc37  51.68750   0.179443   \n6645876        127.0 2019-12-31 13:00:00+00:00  acfc37  51.68750   0.153564   \n6645877        122.0 2019-12-31 13:00:00+00:00  acfc37  51.68750   0.132812   \n6645878        113.0 2019-12-31 13:00:00+00:00  acfc37  51.68750   0.146606   \n\n         ...    spi squawk      track  vertical_rate    flight_id  \\\n552      ...  False   7000  259.75000         -704.0    FGITZ_096   \n553      ...  False   7000  266.25000         -320.0    FGITZ_096   \n554      ...  False   7000  263.25000         -512.0    FGITZ_096   \n794      ...  False   4102  205.25000         -768.0    DIDWC_168   \n795      ...  False   4102  207.75000         -704.0    DIDWC_168   \n...      ...    ...    ...        ...            ...          ...   \n6645874  ...  False   7000   53.21875          192.0  N936CT_2733   \n6645875  ...  False   7000  228.00000          256.0  N936CT_2733   \n6645876  ...  False   7000  310.75000          256.0  N936CT_2733   \n6645877  ...  False   7000  188.00000         -192.0  N936CT_2733   \n6645878  ...  False   7000   47.87500         -384.0  N936CT_2733   \n\n        track_unwrapped                   geometry                   name  \\\n552              259.75  POINT (-2.08203 51.90625)  UNCONTROLLED AIRSPACE   \n553              266.25  POINT (-2.09570 51.90625)  UNCONTROLLED AIRSPACE   \n554              263.25  POINT (-2.11328 51.90625)  UNCONTROLLED AIRSPACE   \n794              205.25   POINT (0.06079 51.37500)  UNCONTROLLED AIRSPACE   \n795              207.75   POINT (0.04819 51.34375)  UNCONTROLLED AIRSPACE   \n...                 ...                        ...                    ...   \n6645874          413.25   POINT (0.16968 51.68750)  UNCONTROLLED AIRSPACE   \n6645875          588.00   POINT (0.17944 51.68750)  UNCONTROLLED AIRSPACE   \n6645876          671.00   POINT (0.15356 51.68750)  UNCONTROLLED AIRSPACE   \n6645877          548.00   POINT (0.13281 51.68750)  UNCONTROLLED AIRSPACE   \n6645878          407.75   POINT (0.14661 51.68750)  UNCONTROLLED AIRSPACE   \n\n        type  icaoClass  \n552        0          6  \n553        0          6  \n554        0          6  \n794        0          6  \n795        0          6  \n...      ...        ...  \n6645874    0          6  \n6645875    0          6  \n6645876    0          6  \n6645877    0          6  \n6645878    0          6  \n\n[720026 rows x 21 columns]",
      "text/html": "<div>\n<style scoped>\n    .dataframe tbody tr th:only-of-type {\n        vertical-align: middle;\n    }\n\n    .dataframe tbody tr th {\n        vertical-align: top;\n    }\n\n    .dataframe thead th {\n        text-align: right;\n    }\n</style>\n<table border=\"1\" class=\"dataframe\">\n  <thead>\n    <tr style=\"text-align: right;\">\n      <th></th>\n      <th>timestamp</th>\n      <th>alert</th>\n      <th>altitude</th>\n      <th>callsign</th>\n      <th>geoaltitude</th>\n      <th>groundspeed</th>\n      <th>hour</th>\n      <th>icao24</th>\n      <th>latitude</th>\n      <th>longitude</th>\n      <th>...</th>\n      <th>spi</th>\n      <th>squawk</th>\n      <th>track</th>\n      <th>vertical_rate</th>\n      <th>flight_id</th>\n      <th>track_unwrapped</th>\n      <th>geometry</th>\n      <th>name</th>\n      <th>type</th>\n      <th>icaoClass</th>\n    </tr>\n  </thead>\n  <tbody>\n    <tr>\n      <th>552</th>\n      <td>2019-01-01 13:26:30+00:00</td>\n      <td>False</td>\n      <td>500.0</td>\n      <td>FGITZ</td>\n      <td>1300.0</td>\n      <td>89.0</td>\n      <td>2019-01-01 13:00:00+00:00</td>\n      <td>392279</td>\n      <td>51.90625</td>\n      <td>-2.082031</td>\n      <td>...</td>\n      <td>False</td>\n      <td>7000</td>\n      <td>259.75000</td>\n      <td>-704.0</td>\n      <td>FGITZ_096</td>\n      <td>259.75</td>\n      <td>POINT (-2.08203 51.90625)</td>\n      <td>UNCONTROLLED AIRSPACE</td>\n      <td>0</td>\n      <td>6</td>\n    </tr>\n    <tr>\n      <th>553</th>\n      <td>2019-01-01 13:27:00+00:00</td>\n      <td>False</td>\n      <td>500.0</td>\n      <td>FGITZ</td>\n      <td>1250.0</td>\n      <td>75.0</td>\n      <td>2019-01-01 13:00:00+00:00</td>\n      <td>392279</td>\n      <td>51.90625</td>\n      <td>-2.095703</td>\n      <td>...</td>\n      <td>False</td>\n      <td>7000</td>\n      <td>266.25000</td>\n      <td>-320.0</td>\n      <td>FGITZ_096</td>\n      <td>266.25</td>\n      <td>POINT (-2.09570 51.90625)</td>\n      <td>UNCONTROLLED AIRSPACE</td>\n      <td>0</td>\n      <td>6</td>\n    </tr>\n    <tr>\n      <th>554</th>\n      <td>2019-01-01 13:27:30+00:00</td>\n      <td>False</td>\n      <td>200.0</td>\n      <td>FGITZ</td>\n      <td>950.0</td>\n      <td>78.0</td>\n      <td>2019-01-01 13:00:00+00:00</td>\n      <td>392279</td>\n      <td>51.90625</td>\n      <td>-2.113281</td>\n      <td>...</td>\n      <td>False</td>\n      <td>7000</td>\n      <td>263.25000</td>\n      <td>-512.0</td>\n      <td>FGITZ_096</td>\n      <td>263.25</td>\n      <td>POINT (-2.11328 51.90625)</td>\n      <td>UNCONTROLLED AIRSPACE</td>\n      <td>0</td>\n      <td>6</td>\n    </tr>\n    <tr>\n      <th>794</th>\n      <td>2019-01-01 13:30:00+00:00</td>\n      <td>False</td>\n      <td>700.0</td>\n      <td>DIDWC</td>\n      <td>1375.0</td>\n      <td>138.0</td>\n      <td>2019-01-01 13:00:00+00:00</td>\n      <td>3e2172</td>\n      <td>51.37500</td>\n      <td>0.060791</td>\n      <td>...</td>\n      <td>False</td>\n      <td>4102</td>\n      <td>205.25000</td>\n      <td>-768.0</td>\n      <td>DIDWC_168</td>\n      <td>205.25</td>\n      <td>POINT (0.06079 51.37500)</td>\n      <td>UNCONTROLLED AIRSPACE</td>\n      <td>0</td>\n      <td>6</td>\n    </tr>\n    <tr>\n      <th>795</th>\n      <td>2019-01-01 13:30:30+00:00</td>\n      <td>False</td>\n      <td>275.0</td>\n      <td>DIDWC</td>\n      <td>1050.0</td>\n      <td>112.0</td>\n      <td>2019-01-01 13:00:00+00:00</td>\n      <td>3e2172</td>\n      <td>51.34375</td>\n      <td>0.048187</td>\n      <td>...</td>\n      <td>False</td>\n      <td>4102</td>\n      <td>207.75000</td>\n      <td>-704.0</td>\n      <td>DIDWC_168</td>\n      <td>207.75</td>\n      <td>POINT (0.04819 51.34375)</td>\n      <td>UNCONTROLLED AIRSPACE</td>\n      <td>0</td>\n      <td>6</td>\n    </tr>\n    <tr>\n      <th>...</th>\n      <td>...</td>\n      <td>...</td>\n      <td>...</td>\n      <td>...</td>\n      <td>...</td>\n      <td>...</td>\n      <td>...</td>\n      <td>...</td>\n      <td>...</td>\n      <td>...</td>\n      <td>...</td>\n      <td>...</td>\n      <td>...</td>\n      <td>...</td>\n      <td>...</td>\n      <td>...</td>\n      <td>...</td>\n      <td>...</td>\n      <td>...</td>\n      <td>...</td>\n      <td>...</td>\n    </tr>\n    <tr>\n      <th>6645874</th>\n      <td>2019-12-31 13:44:00+00:00</td>\n      <td>False</td>\n      <td>200.0</td>\n      <td>N936CT</td>\n      <td>875.0</td>\n      <td>131.0</td>\n      <td>2019-12-31 13:00:00+00:00</td>\n      <td>acfc37</td>\n      <td>51.68750</td>\n      <td>0.169678</td>\n      <td>...</td>\n      <td>False</td>\n      <td>7000</td>\n      <td>53.21875</td>\n      <td>192.0</td>\n      <td>N936CT_2733</td>\n      <td>413.25</td>\n      <td>POINT (0.16968 51.68750)</td>\n      <td>UNCONTROLLED AIRSPACE</td>\n      <td>0</td>\n      <td>6</td>\n    </tr>\n    <tr>\n      <th>6645875</th>\n      <td>2019-12-31 13:44:30+00:00</td>\n      <td>False</td>\n      <td>225.0</td>\n      <td>N936CT</td>\n      <td>900.0</td>\n      <td>137.0</td>\n      <td>2019-12-31 13:00:00+00:00</td>\n      <td>acfc37</td>\n      <td>51.68750</td>\n      <td>0.179443</td>\n      <td>...</td>\n      <td>False</td>\n      <td>7000</td>\n      <td>228.00000</td>\n      <td>256.0</td>\n      <td>N936CT_2733</td>\n      <td>588.00</td>\n      <td>POINT (0.17944 51.68750)</td>\n      <td>UNCONTROLLED AIRSPACE</td>\n      <td>0</td>\n      <td>6</td>\n    </tr>\n    <tr>\n      <th>6645876</th>\n      <td>2019-12-31 13:45:00+00:00</td>\n      <td>False</td>\n      <td>250.0</td>\n      <td>N936CT</td>\n      <td>875.0</td>\n      <td>127.0</td>\n      <td>2019-12-31 13:00:00+00:00</td>\n      <td>acfc37</td>\n      <td>51.68750</td>\n      <td>0.153564</td>\n      <td>...</td>\n      <td>False</td>\n      <td>7000</td>\n      <td>310.75000</td>\n      <td>256.0</td>\n      <td>N936CT_2733</td>\n      <td>671.00</td>\n      <td>POINT (0.15356 51.68750)</td>\n      <td>UNCONTROLLED AIRSPACE</td>\n      <td>0</td>\n      <td>6</td>\n    </tr>\n    <tr>\n      <th>6645877</th>\n      <td>2019-12-31 13:45:30+00:00</td>\n      <td>False</td>\n      <td>175.0</td>\n      <td>N936CT</td>\n      <td>825.0</td>\n      <td>122.0</td>\n      <td>2019-12-31 13:00:00+00:00</td>\n      <td>acfc37</td>\n      <td>51.68750</td>\n      <td>0.132812</td>\n      <td>...</td>\n      <td>False</td>\n      <td>7000</td>\n      <td>188.00000</td>\n      <td>-192.0</td>\n      <td>N936CT_2733</td>\n      <td>548.00</td>\n      <td>POINT (0.13281 51.68750)</td>\n      <td>UNCONTROLLED AIRSPACE</td>\n      <td>0</td>\n      <td>6</td>\n    </tr>\n    <tr>\n      <th>6645878</th>\n      <td>2019-12-31 13:46:00+00:00</td>\n      <td>False</td>\n      <td>150.0</td>\n      <td>N936CT</td>\n      <td>875.0</td>\n      <td>113.0</td>\n      <td>2019-12-31 13:00:00+00:00</td>\n      <td>acfc37</td>\n      <td>51.68750</td>\n      <td>0.146606</td>\n      <td>...</td>\n      <td>False</td>\n      <td>7000</td>\n      <td>47.87500</td>\n      <td>-384.0</td>\n      <td>N936CT_2733</td>\n      <td>407.75</td>\n      <td>POINT (0.14661 51.68750)</td>\n      <td>UNCONTROLLED AIRSPACE</td>\n      <td>0</td>\n      <td>6</td>\n    </tr>\n  </tbody>\n</table>\n<p>720026 rows × 21 columns</p>\n</div>"
     },
     "execution_count": 4,
     "metadata": {},
     "output_type": "execute_result"
    }
   ],
   "source": [
    "unc_asp_tfc_gdf"
   ],
   "metadata": {
    "collapsed": false
   }
  },
  {
   "cell_type": "code",
   "execution_count": null,
   "outputs": [],
   "source": [
    "unc_asp_tfc = traffic.core.Traffic(unc_asp_tfc_gdf)"
   ],
   "metadata": {
    "collapsed": false
   }
  },
  {
   "cell_type": "code",
   "execution_count": null,
   "outputs": [],
   "source": [
    "unc_asp_tfc_alt_gdf =  unc_asp_tfc_gdf.groupby(['track', pd.cut(unc_asp_tfc_gdf['altitude'], [x for x in range(0,int(unc_asp_tfc_gdf.altitude.max()+1), 500)], right=True)])"
   ],
   "metadata": {
    "collapsed": false
   }
  },
  {
   "cell_type": "markdown",
   "source": [
    "Aggregate traffic data by projected XY and collect statistics for each cell."
   ],
   "metadata": {
    "collapsed": false
   }
  },
  {
   "cell_type": "code",
   "execution_count": null,
   "outputs": [],
   "source": [
    "res = 7000\n",
    "tfc_unc_xy_gdf = unc_asp_tfc.compute_xy('epsg:3857')\n",
    "tfc_agg = tfc_unc_xy_gdf.assign(\n",
    "    x=lambda elt: (elt.x // res) * res,\n",
    "    y=lambda elt: (elt.y // res) * res,\n",
    ").groupby([\"x\", \"y\"]).agg(altitude_mean=pd.NamedAgg('altitude', np.nanmean),\n",
    "                          altitude_std=pd.NamedAgg('altitude', np.std), track_mean=pd.NamedAgg('track', np.nanmean),\n",
    "                          track_std=pd.NamedAgg('track', np.std),\n",
    "                          groundspeed_mean=pd.NamedAgg('groundspeed', np.nanmean),\n",
    "                          groundspeed_std=pd.NamedAgg('groundspeed', np.std),\n",
    "                          flight_id_nunique=('flight_id', 'nunique'))"
   ],
   "metadata": {
    "collapsed": false
   }
  },
  {
   "cell_type": "markdown",
   "source": [
    "Only use cells with over 30 samples in order for the Central Limit Theorem to hold. This ensures the distributions we extract from these cells are valid approximations of a Gaussian distribution."
   ],
   "metadata": {
    "collapsed": false
   }
  },
  {
   "cell_type": "code",
   "execution_count": null,
   "outputs": [],
   "source": [
    "tfc_magg = tfc_agg#[tfc_agg['flight_id_nunique'] > 30]\n",
    "tfc_gdf = tfc_agg.reset_index()\n",
    "tfc_mgdf = tfc_magg.reset_index()\n",
    "tfc_magg.head(10)"
   ],
   "metadata": {
    "collapsed": false
   }
  },
  {
   "cell_type": "code",
   "execution_count": null,
   "outputs": [],
   "source": [
    "airprox_gdf"
   ],
   "metadata": {
    "collapsed": false
   }
  },
  {
   "cell_type": "code",
   "execution_count": null,
   "outputs": [],
   "source": [
    "x_idx = np.array(tfc_agg.index.levels[0])\n",
    "y_idx = np.array(tfc_agg.index.levels[1])"
   ],
   "metadata": {
    "collapsed": false
   }
  },
  {
   "cell_type": "code",
   "execution_count": null,
   "outputs": [],
   "source": [
    "airprox_gdf = airprox_gdf[\n",
    "    (airprox_gdf.Latitude >= tfc_clean.data.latitude.min()) &\n",
    "    (airprox_gdf.Latitude <= tfc_clean.data.latitude.max()) &\n",
    "    (airprox_gdf.Longitude >= tfc_clean.data.longitude.min()) &\n",
    "    (airprox_gdf.Longitude <= tfc_clean.data.longitude.max()) &\n",
    "    ((airprox_gdf.icaoClass == 6) | (airprox_gdf.icaoClass == 'G') | (\n",
    "            airprox_gdf.type == 'Radio Mandatory Zone (RMZ)') | (airprox_gdf.type == 'Gliding Sector'))\n",
    "    ]"
   ],
   "metadata": {
    "collapsed": false
   }
  },
  {
   "cell_type": "code",
   "execution_count": null,
   "outputs": [],
   "source": [
    "transformer = pyproj.Transformer.from_proj(pyproj.Proj(\"epsg:4326\"), pyproj.Proj(\"epsg:3857\"), always_xy=True)\n",
    "x, y = transformer.transform(\n",
    "    airprox_gdf.Longitude.values,\n",
    "    airprox_gdf.Latitude.values,\n",
    ")\n",
    "airprox_gdf = airprox_gdf.assign(x=x, y=y)"
   ],
   "metadata": {
    "collapsed": false
   }
  },
  {
   "cell_type": "markdown",
   "source": [
    "Match up the locations of airproxes with the traffic stats in that cell"
   ],
   "metadata": {
    "collapsed": false
   }
  },
  {
   "cell_type": "code",
   "execution_count": null,
   "outputs": [],
   "source": [
    "tfc_grid = np.array(tfc_magg.reset_index()[['x', 'y']])\n",
    "airprox_locs = np.array(airprox_gdf[['x', 'y']])"
   ],
   "metadata": {
    "collapsed": false
   }
  },
  {
   "cell_type": "code",
   "execution_count": null,
   "outputs": [],
   "source": [
    "tfc_idxs = cdist(tfc_grid, airprox_locs).argmin(axis=0)"
   ],
   "metadata": {
    "collapsed": false
   }
  },
  {
   "cell_type": "code",
   "execution_count": null,
   "outputs": [],
   "source": [
    "tfc_cells = tfc_magg.iloc[tfc_idxs].reset_index()\n",
    "airproxes_with_tfc = pd.concat([airprox_gdf.reset_index(), tfc_cells], axis=1)\n",
    "airproxes_with_tfc = airproxes_with_tfc.drop(labels=['index', 'x', 'y'], axis=1)\n",
    "airproxes_with_tfc"
   ],
   "metadata": {
    "collapsed": false
   }
  },
  {
   "cell_type": "code",
   "execution_count": null,
   "outputs": [],
   "source": [
    "non_airprox_tfc = pd.merge(tfc_magg.reset_index(), tfc_cells.reset_index(), how=\"outer\", indicator=True\n",
    "                           ).query('_merge==\"left_only\"')\n",
    "non_airprox_tfc"
   ],
   "metadata": {
    "collapsed": false
   }
  },
  {
   "cell_type": "markdown",
   "source": [
    "Sanity check the data at this point by plotting"
   ],
   "metadata": {
    "collapsed": false
   }
  },
  {
   "cell_type": "code",
   "execution_count": null,
   "outputs": [],
   "source": [
    "airproxes_with_tfc.explore('altitude_mean', cmap='inferno')"
   ],
   "metadata": {
    "collapsed": false
   }
  },
  {
   "cell_type": "markdown",
   "source": [
    "Examine the spatial coverage of the data. this is the area within which we can apply CLT and extract valid distributions"
   ],
   "metadata": {
    "collapsed": false
   }
  },
  {
   "cell_type": "code",
   "execution_count": null,
   "outputs": [],
   "source": [
    "fig, ax = plt.subplots(\n",
    "    1, 1, figsize=(11, 11), subplot_kw=dict(projection=Projection('epsg:3857')),\n",
    ")\n",
    "\n",
    "ax.add_feature(countries())\n",
    "ax.add_feature(lakes())\n",
    "ax.add_feature(ocean())\n",
    "\n",
    "flow = ax.tricontourf(\n",
    "    tfc_gdf[tfc_gdf['flight_id_nunique'] > 30]['x'],\n",
    "    tfc_gdf[tfc_gdf['flight_id_nunique'] > 30]['y'],\n",
    "    np.log(tfc_gdf[tfc_gdf['flight_id_nunique'] > 30]['flight_id_nunique']),\n",
    "    alpha=0.5,\n",
    "    cmap='inferno')\n",
    "\n",
    "# aps = ax.scatter(airprox_gdf['x'], airprox_gdf['y'], c='r', marker='x')\n",
    "\n",
    "ax.set_title('Sample Count')\n",
    "cb = fig.colorbar(flow)\n",
    "cb.set_label('Samples')\n",
    "# ax.legend([aps], ['Airprox'])"
   ],
   "metadata": {
    "collapsed": false
   }
  },
  {
   "cell_type": "code",
   "execution_count": null,
   "outputs": [],
   "source": [
    "from cartes.crs import LambertConformal, EPSG_27700, PlateCarree, EuroPP, Mercator, Projection\n",
    "from traffic.drawing import countries, lakes, ocean\n",
    "bounds = (-2.9, 1.5, 50.5, 51.9)\n",
    "\n",
    "fig, ax = plt.subplots(\n",
    "    1, 1, figsize=(12,6), subplot_kw=dict(projection=Projection('epsg:3857')),\n",
    ")\n",
    "\n",
    "ax.add_feature(countries())\n",
    "ax.add_feature(lakes())\n",
    "ax.add_feature(ocean())\n",
    "# ax.set_extent(bounds)\n",
    "# ax.set_global()\n",
    "\n",
    "xs = np.sort(tfc_magg['flight_id_nunique'].reset_index()['x'].unique().astype(int))\n",
    "ys = np.sort(tfc_magg['flight_id_nunique'].reset_index()['y'].unique().astype(int))\n",
    "\n",
    "pcm = ax.pcolormesh(xs, ys, np.log(tfc_magg['flight_id_nunique'].reset_index().pivot_table('flight_id_nunique', 'y', 'x', fill_value=np.nan))\n",
    ", cmap='inferno', alpha=0.5)\n",
    "\n",
    "airports['EGHL'].point.plot(ax, alpha=0.2)\n",
    "airports['EGTK'].point.plot(ax, alpha=0.2)\n",
    "airports['EGKA'].point.plot(ax, alpha=0.2)\n",
    "airports['EGMD'].point.plot(ax, alpha=0.2)\n",
    "airports['EGTB'].point.plot(ax, alpha=0.2)\n",
    "airports['EGHO'].point.plot(ax, alpha=0.2)\n",
    "airports['EGBP'].point.plot(ax, alpha=0.2)\n",
    "airports['EGKH'].point.plot(ax, alpha=0.2)\n",
    "\n",
    "cb = fig.colorbar(pcm)\n",
    "cb.set_label('ln Traffic Counts')\n",
    "# tfc_magg['flight_id_nunique'].to_xarray().sortby('x').plot.pcolormesh(\n",
    "#     ax=ax,\n",
    "#     alpha=0.4,\n",
    "#     cmap=\"inferno\",\n",
    "# )\n",
    "# fig.show()"
   ],
   "metadata": {
    "collapsed": false
   }
  },
  {
   "cell_type": "markdown",
   "source": [
    "Plot a correlation matrix between all variables using the Pearson Correlation Coefficient"
   ],
   "metadata": {
    "collapsed": false
   }
  },
  {
   "cell_type": "code",
   "execution_count": null,
   "outputs": [],
   "source": [
    "# corr = airproxes_with_tfc.corr(method='spearman')\n",
    "corr = airproxes_with_tfc.apply(lambda x: pd.factorize(x)[0]).corr(method='pearson', min_periods=1)\n",
    "fig, ax = plt.subplots(figsize=(20, 20))\n",
    "sns.heatmap(corr, square=True, cmap=sns.color_palette('icefire', as_cmap=True), annot=True, ax=ax)\n",
    "plt.savefig('corr.svg')"
   ],
   "metadata": {
    "collapsed": false
   }
  },
  {
   "cell_type": "markdown",
   "source": [
    "Compute vectors for the quiver plot"
   ],
   "metadata": {
    "collapsed": false
   }
  },
  {
   "cell_type": "code",
   "execution_count": null,
   "outputs": [],
   "source": [
    "tfc_mgdf['track_scale'] = 1 - (tfc_mgdf['track_std'] / tfc_mgdf['track_std'].max())\n",
    "tfc_mgdf['track_u'] = np.cos(np.radians(tfc_mgdf['track_mean'])) * tfc_mgdf['track_scale']\n",
    "tfc_mgdf['track_v'] = np.sin(np.radians(tfc_mgdf['track_mean'])) * tfc_mgdf['track_scale']\n",
    "tfc_mgdf.head()"
   ],
   "metadata": {
    "collapsed": false
   }
  },
  {
   "cell_type": "markdown",
   "source": [
    "Plot the mean traffic flow direction for cells with sufficient samples. The scale of the vectors is inversely proportional to the standard deviation of the distribution of directions for that cell. In practice, this means the longer the arrow the more unidirectional and organised the traffic flow is.\n",
    "\n",
    "Vector colouring is based on direction of the vector and is only to provide more visual difference.\n",
    "\n",
    "Airprox locations are superimposed for information only.\n",
    "\n",
    "Both a quiver and contour plot are made to based on the same data"
   ],
   "metadata": {
    "collapsed": false
   }
  },
  {
   "cell_type": "code",
   "execution_count": null,
   "outputs": [],
   "source": [
    "fig, ax = plt.subplots(\n",
    "    1, 1, figsize=(11, 11), subplot_kw=dict(projection=Projection('epsg:3857')),\n",
    ")\n",
    "\n",
    "ax.add_feature(countries())\n",
    "ax.add_feature(lakes())\n",
    "ax.add_feature(ocean())\n",
    "\n",
    "flow = ax.quiver(tfc_mgdf['x'],\n",
    "                 tfc_mgdf['y'],\n",
    "                 tfc_mgdf['track_u'],\n",
    "                 tfc_mgdf['track_v'],\n",
    "                 tfc_mgdf['track_mean'],\n",
    "                 scale_units=None,\n",
    "                 cmap='cool')\n",
    "\n",
    "# aps = ax.scatter(airprox_gdf['x'], airprox_gdf['y'], c='r', marker='x')\n",
    "\n",
    "ax.set_title('Mean traffic flow')\n",
    "cb = fig.colorbar(flow)\n",
    "cb.set_label('Mean traffic flow')\n",
    "ax.legend([aps], ['Airprox'])\n",
    "\n",
    "# airports['EGHQ'].point.plot(ax)\n",
    "# airports['EGHE'].point.plot(ax)\n",
    "# airports['EGHC'].point.plot(ax)"
   ],
   "metadata": {
    "collapsed": false
   }
  },
  {
   "cell_type": "code",
   "execution_count": null,
   "outputs": [],
   "source": [
    "alt_tfc_magg = []\n",
    "alt_bins = range(0,int(5000+1), 500)\n",
    "for floor, ceil in zip(alt_bins, alt_bins[1:]):\n",
    "    tfc_alt_gdf = tfc_unc_xy_gdf.data[(tfc_unc_xy_gdf.data['altitude'] >= floor) & (tfc_unc_xy_gdf.data['altitude'] < ceil)]\n",
    "    tfc_alt_agg = tfc_alt_gdf.assign(\n",
    "        x=lambda elt: (elt.x // res) * res,\n",
    "        y=lambda elt: (elt.y // res) * res,\n",
    "    ).groupby([\"x\", \"y\"]).agg(altitude_mean=pd.NamedAgg('altitude', np.nanmean),\n",
    "                              altitude_std=pd.NamedAgg('altitude', np.std), track_mean=pd.NamedAgg('track', np.nanmean),\n",
    "                              track_std=pd.NamedAgg('track', np.std),\n",
    "                              groundspeed_mean=pd.NamedAgg('groundspeed', np.nanmean),\n",
    "                              groundspeed_std=pd.NamedAgg('groundspeed', np.std),\n",
    "                              flight_id_nunique=('flight_id', 'nunique'))\n",
    "    tfc_alt_mgdf = tfc_alt_agg[tfc_alt_agg['flight_id_nunique'] > 30].reset_index()\n",
    "    alt_tfc_magg.append(tfc_alt_mgdf)\n",
    "    \n",
    "    tfc_alt_mgdf['track_scale'] = 1 - (tfc_alt_mgdf['track_std'] / tfc_alt_mgdf['track_std'].max())\n",
    "    tfc_alt_mgdf['track_u'] = np.cos(np.radians(tfc_alt_mgdf['track_mean'])) * tfc_alt_mgdf['track_scale']\n",
    "    tfc_alt_mgdf['track_v'] = np.sin(np.radians(tfc_alt_mgdf['track_mean'])) * tfc_alt_mgdf['track_scale']\n",
    "\n",
    "    fig, ax = plt.subplots(\n",
    "        1, 1, figsize=(11, 11), subplot_kw=dict(projection=Projection('epsg:3857')),\n",
    "    )\n",
    "\n",
    "    ax.add_feature(countries())\n",
    "    ax.add_feature(lakes())\n",
    "    ax.add_feature(ocean())\n",
    "\n",
    "    flow = ax.quiver(tfc_alt_mgdf['x'],\n",
    "                     tfc_alt_mgdf['y'],\n",
    "                     tfc_alt_mgdf['track_u'],\n",
    "                     tfc_alt_mgdf['track_v'],\n",
    "                     tfc_alt_mgdf['track_mean'],\n",
    "                     scale_units=None,\n",
    "                     cmap='cool')\n",
    "\n",
    "    aps = ax.scatter(airprox_gdf['x'], airprox_gdf['y'], c='r', marker='x')\n",
    "\n",
    "    ax.set_title(f'Mean traffic flow: {floor}ft - {ceil}ft AGL')\n",
    "    # cb = fig.colorbar(flow)\n",
    "    # cb.set_label('Mean traffic flow')\n",
    "    ax.legend([aps], ['Airprox'])\n",
    "    fig.savefig(f'southeng_quiver_{floor}.png', tightlayout=True)\n"
   ],
   "metadata": {
    "collapsed": false
   }
  },
  {
   "cell_type": "code",
   "execution_count": null,
   "outputs": [],
   "source": [
    "from cartopy.crs import Projection\n",
    "from traffic.drawing import countries, lakes, ocean\n",
    "from traffic.data import airports\n",
    "\n",
    "fig, ax = plt.subplots(\n",
    "    1, 1, figsize=(11, 11), subplot_kw=dict(projection=Projection('epsg:3857')),\n",
    ")\n",
    "\n",
    "ax.add_feature(countries())\n",
    "ax.add_feature(lakes())\n",
    "ax.add_feature(ocean())\n",
    "\n",
    "flow = ax.tricontourf(tfc_mgdf['x'],\n",
    "                      tfc_mgdf['y'],\n",
    "                      # tfc_gdf['track_u'],\n",
    "                      # tfc_gdf['track_v'],\n",
    "                      tfc_mgdf['track_mean'],\n",
    "                      alpha=0.5,\n",
    "                      cmap='inferno')\n",
    "\n",
    "aps = ax.scatter(airprox_gdf['x'], airprox_gdf['y'], c='r', marker='x')\n",
    "\n",
    "ax.set_title('Mean traffic flow')\n",
    "cb = fig.colorbar(flow)\n",
    "cb.set_label('Mean traffic bearing')\n",
    "ax.legend([aps], ['Airprox'])\n",
    "\n",
    "# airports['EGHQ'].point.plot(ax)\n",
    "# airports['EGHE'].point.plot(ax)\n",
    "# airports['EGHC'].point.plot(ax)"
   ],
   "metadata": {
    "collapsed": false
   }
  },
  {
   "cell_type": "code",
   "execution_count": null,
   "outputs": [],
   "source": [
    "fig, ax = plt.subplots(\n",
    "    1, 1, figsize=(11, 11), subplot_kw=dict(projection=Projection('epsg:3857')),\n",
    ")\n",
    "\n",
    "ax.add_feature(countries())\n",
    "ax.add_feature(lakes())\n",
    "ax.add_feature(ocean())\n",
    "\n",
    "flow = ax.tricontourf(\n",
    "    tfc_mgdf['x'],\n",
    "    tfc_mgdf['y'],\n",
    "    tfc_mgdf['altitude_mean'],\n",
    "    alpha=0.5,\n",
    "    cmap='inferno')\n",
    "\n",
    "# aps = ax.scatter(airprox_gdf['x'], airprox_gdf['y'], c='r', marker='x')\n",
    "\n",
    "ax.set_title('Mean altitude')\n",
    "cb = fig.colorbar(flow)\n",
    "cb.set_label('Mean altitude')\n",
    "# ax.legend([aps], ['Airprox'])"
   ],
   "metadata": {
    "collapsed": false
   }
  },
  {
   "cell_type": "markdown",
   "source": [
    "# Aggregate Stats"
   ],
   "metadata": {
    "collapsed": false
   }
  },
  {
   "cell_type": "code",
   "execution_count": null,
   "outputs": [],
   "source": [
    "import shapely.geometry as sg\n",
    "\n",
    "print('World space stats (uncontrolled volumes):')\n",
    "ceiling_alt = 304.8 * 4\n",
    "bounds = (-2.9, 50.5, 1.5, 51.9)\n",
    "transformer = pyproj.Transformer.from_proj(pyproj.Proj(\"epsg:4326\"), pyproj.Proj(\"epsg:3857\"), always_xy=True)\n",
    "trans_bounds = transformer.transform_bounds(*bounds)\n",
    "bound_poly = sg.box(*trans_bounds)\n",
    "total_vol = bound_poly.area * ceiling_alt\n",
    "print(f\"Total area: {bound_poly.area} m^2\")\n",
    "print(f\"Total volume: {bound_poly.area * ceiling_alt} m^3\")\n",
    "coords = [np.array(c) for c in bound_poly.exterior.coords[:-1]]\n",
    "coord_dists = np.unique(cdist(coords, coords).round(decimals=3))\n",
    "coord_dists = coord_dists[coord_dists > 0]\n",
    "print(f'Total x,y,z dimensions are {coord_dists[0]}m, {coord_dists[1]}m, {ceiling_alt}m with xy diagonal {coord_dists[2]}m')"
   ],
   "metadata": {
    "collapsed": false
   }
  },
  {
   "cell_type": "code",
   "execution_count": null,
   "outputs": [],
   "source": [
    "total_tfc = len(unc_asp_tfc_gdf.groupby('flight_id').groups)\n",
    "print(f'Total Traffic Density in uncontrolled airspace over year: {total_tfc/total_vol/8766} aircraft/m^3/hr')"
   ],
   "metadata": {
    "collapsed": false
   }
  },
  {
   "cell_type": "markdown",
   "source": [
    "If we discard cells without any traffic recorded for the year, we can get the traffic density for all the areas aircraft actually fly"
   ],
   "metadata": {
    "collapsed": false
   }
  },
  {
   "cell_type": "code",
   "execution_count": null,
   "outputs": [],
   "source": [
    "cell_vol = res * res * ceiling_alt\n",
    "data_vol = len(tfc_magg['flight_id_nunique']) * cell_vol\n",
    "print(f'Data Volume: {data_vol}')\n",
    "print(f'Mean Traffic Density in uncontrolled airspace over year for data area: {total_tfc/data_vol/8766} aircraft/m^3/hour')\n",
    "# print(f'Equivalent to an aircraft per {np.sqrt((1/cell_traffic_densities.mean())/152.4)}m x 500ft cuboid per hour')"
   ],
   "metadata": {
    "collapsed": false
   }
  },
  {
   "cell_type": "markdown",
   "source": [
    "## Testing hypotheses\n",
    "All tests are done to 5% significance unless otherwise specified."
   ],
   "metadata": {
    "collapsed": false
   }
  },
  {
   "cell_type": "code",
   "execution_count": null,
   "outputs": [],
   "source": [
    "from scipy import stats as ss\n",
    "\n",
    "sig_lvl = 0.05"
   ],
   "metadata": {
    "collapsed": false
   }
  },
  {
   "cell_type": "markdown",
   "source": [
    "### Track correlation\n",
    "First, the correlation of direction variance with airprox location is tested. The mean standard deviation for directions in the entire area is found and compared to that of just where airproxes occurred:"
   ],
   "metadata": {
    "collapsed": false
   }
  },
  {
   "cell_type": "code",
   "execution_count": null,
   "outputs": [],
   "source": [
    "print('Overall mean of stddev: ', non_airprox_tfc['track_std'].mean(), ' for ', len(non_airprox_tfc['track_std']),\n",
    "      ' samples')\n",
    "print('Airprox location mean of stddev: ', airproxes_with_tfc['track_std'].mean(), 'for ',\n",
    "      len(airproxes_with_tfc['track_std']), ' samples')"
   ],
   "metadata": {
    "collapsed": false
   }
  },
  {
   "cell_type": "code",
   "execution_count": null,
   "outputs": [],
   "source": [
    "F, p = ss.bartlett(non_airprox_tfc['track_std'], airproxes_with_tfc['track_std'])\n",
    "print(f'Bartlett equal variance test gives score of {F} at a p-significance of {p}')\n",
    "if p <= sig_lvl:\n",
    "    print(f'The hypothesis is accepted (F={F}, p={p})')\n",
    "else:\n",
    "    print('Null hypothesis is accepted.')"
   ],
   "metadata": {
    "collapsed": false
   }
  },
  {
   "cell_type": "markdown",
   "source": [
    "### Density Correlation\n",
    "\n",
    "The count of unique flights within a cell is used as a measure of traffic density.\n",
    "\n",
    "Otherwise the same procedure as above"
   ],
   "metadata": {
    "collapsed": false
   }
  },
  {
   "cell_type": "code",
   "execution_count": null,
   "outputs": [],
   "source": [
    "print('Overall mean: ', non_airprox_tfc['flight_id_nunique'].mean(), ' for ', len(non_airprox_tfc['flight_id_nunique']),\n",
    "      ' samples')\n",
    "print('Airprox location mean: ', airproxes_with_tfc['flight_id_nunique'].mean(), 'for ',\n",
    "      len(airproxes_with_tfc['flight_id_nunique']), ' samples')"
   ],
   "metadata": {
    "collapsed": false
   }
  },
  {
   "cell_type": "code",
   "execution_count": null,
   "outputs": [],
   "source": [
    "F, p = ss.f_oneway(non_airprox_tfc['flight_id_nunique'], airproxes_with_tfc['flight_id_nunique'])\n",
    "print(f'One-Way ANOVA test gives F-score of {F} at a p-significance of {p}')\n",
    "if p <= sig_lvl:\n",
    "    print(f'The hypothesis is accepted (F={F}, p={p})')\n",
    "else:\n",
    "    print('Null hypothesis is accepted.')"
   ],
   "metadata": {
    "collapsed": false
   }
  },
  {
   "cell_type": "markdown",
   "source": [
    "### Speed correlation\n",
    "\n",
    "First the difference in the overall traffic flow speed is compared between airprox and non-airprox traffic"
   ],
   "metadata": {
    "collapsed": false
   }
  },
  {
   "cell_type": "code",
   "execution_count": null,
   "outputs": [],
   "source": [
    "print('Overall mean: ', np.array(non_airprox_tfc['groundspeed_mean']).mean(), ' for ',\n",
    "      len(non_airprox_tfc['groundspeed_mean']),\n",
    "      ' samples')\n",
    "print('Airprox location mean: ', np.array(airproxes_with_tfc['groundspeed_mean']).mean(), 'for ',\n",
    "      len(airproxes_with_tfc['groundspeed_mean']), ' samples')"
   ],
   "metadata": {
    "collapsed": false
   }
  },
  {
   "cell_type": "code",
   "execution_count": null,
   "outputs": [],
   "source": [
    "F, p = ss.f_oneway(non_airprox_tfc['groundspeed_mean'], airproxes_with_tfc['groundspeed_mean'])\n",
    "print(f'One-Way ANOVA test gives F-score of {F} at a p-significance of {p}')\n",
    "if p <= sig_lvl:\n",
    "    print(f'The hypothesis is accepted (F={F}, p={p})')\n",
    "else:\n",
    "    print('Null hypothesis is accepted.')"
   ],
   "metadata": {
    "collapsed": false
   }
  },
  {
   "cell_type": "markdown",
   "source": [
    "Now the difference in *spread* of traffic flow speeds is compared between airprox and non-airprox traffic"
   ],
   "metadata": {
    "collapsed": false
   }
  },
  {
   "cell_type": "code",
   "execution_count": null,
   "outputs": [],
   "source": [
    "print('Overall mean of stddev: ', np.array(non_airprox_tfc['groundspeed_std']).mean(), ' for ',\n",
    "      len(non_airprox_tfc['groundspeed_std']),\n",
    "      ' samples')\n",
    "print('Airprox location mean of stddev: ', np.array(airproxes_with_tfc['groundspeed_std']).mean(), 'for ',\n",
    "      len(airproxes_with_tfc['groundspeed_std']), ' samples')"
   ],
   "metadata": {
    "collapsed": false
   }
  },
  {
   "cell_type": "code",
   "execution_count": null,
   "outputs": [],
   "source": [
    "F, p = ss.bartlett(non_airprox_tfc['groundspeed_std'], airproxes_with_tfc['groundspeed_std'])\n",
    "print(f'Bartlett equal variance test gives score of {F} at a p-significance of {p}')\n",
    "if p <= sig_lvl:\n",
    "    print(f'The hypothesis is accepted (F={F}, p={p})')\n",
    "else:\n",
    "    print('Null hypothesis is accepted.')"
   ],
   "metadata": {
    "collapsed": false
   }
  },
  {
   "cell_type": "markdown",
   "source": [
    "# Adherence to Semicircular Rule\n",
    "Check to see if traffic tends to follow the [Semicircular rule](https://en.wikipedia.org/wiki/Flight_level#Semicircular/hemispheric_rule)"
   ],
   "metadata": {
    "collapsed": false
   }
  },
  {
   "cell_type": "code",
   "execution_count": null,
   "outputs": [],
   "source": [
    "tfc_magg['track_mean']"
   ],
   "metadata": {
    "collapsed": false
   }
  },
  {
   "cell_type": "code",
   "execution_count": null,
   "outputs": [],
   "source": [
    "tfc_alt_agg"
   ],
   "metadata": {
    "collapsed": false
   }
  }
 ],
 "metadata": {
  "kernelspec": {
   "display_name": "Python 3 (ipykernel)",
   "language": "python",
   "name": "python3"
  },
  "language_info": {
   "codemirror_mode": {
    "name": "ipython",
    "version": 3
   },
   "file_extension": ".py",
   "mimetype": "text/x-python",
   "name": "python",
   "nbconvert_exporter": "python",
   "pygments_lexer": "ipython3",
   "version": "3.9.12"
  }
 },
 "nbformat": 4,
 "nbformat_minor": 1
}
