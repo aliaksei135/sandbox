{
 "cells": [
  {
   "cell_type": "code",
   "execution_count": null,
   "metadata": {},
   "outputs": [],
   "source": [
    "import geopandas as gpd\n",
    "import pandas as pd\n",
    "import seaborn as sns\n",
    "import shapely.geometry as sg\n",
    "import numpy as np\n",
    "import pyproj\n",
    "from scipy.spatial.distance import cdist\n",
    "import matplotlib.pyplot as plt\n",
    "import joblib as jl\n",
    "import traffic\n",
    "from traffic.core import Traffic\n",
    "\n",
    "\n",
    "%matplotlib inline"
   ]
  },
  {
   "cell_type": "code",
   "execution_count": null,
   "metadata": {},
   "outputs": [],
   "source": [
    "unc_asp_tfc_gdf = pd.read_pickle('../data/southeng/southeng_unc_asp_tfc_2019.pkl.bz2', compression='bz2')\n",
    "# unc_asp_tfc_gdf = unc_asp_tfc_gdf.to_crs('epsg:3857')\n",
    "unc_asp_tfc_gdf[unc_asp_tfc_gdf.select_dtypes(np.float16).columns] = unc_asp_tfc_gdf.select_dtypes(\n",
    "        np.float16).astype(np.float32)"
   ]
  },
  {
   "cell_type": "code",
   "execution_count": null,
   "outputs": [],
   "source": [
    "unc_asp_tfc_gdf[unc_asp_tfc_gdf['altitude'] < 304 * 3].flight_id.nunique()"
   ],
   "metadata": {
    "collapsed": false
   }
  },
  {
   "cell_type": "code",
   "execution_count": null,
   "metadata": {},
   "outputs": [],
   "source": [
    "traj_gdf = gpd.read_file('../data/test_traj/QA-IOW.geojson').set_crs('epsg:4326').to_crs('epsg:27700')\n",
    "traj_alt = 1000 #m\n",
    "lat_buffer = 1000 #m\n",
    "vert_buffer = 500 #m\n",
    "traj_gdf"
   ]
  },
  {
   "cell_type": "code",
   "execution_count": null,
   "metadata": {},
   "outputs": [],
   "source": [
    "unc_asp_tfc_gdf"
   ]
  },
  {
   "cell_type": "code",
   "execution_count": null,
   "metadata": {},
   "outputs": [],
   "source": [
    "traj_poly = traj_gdf.buffer(lat_buffer).iloc[0]\n",
    "traj_poly_gdf = gpd.GeoDataFrame(geometry=[traj_poly])\n",
    "traj_poly"
   ]
  },
  {
   "cell_type": "code",
   "execution_count": null,
   "metadata": {},
   "outputs": [],
   "source": [
    "x_res = 1000\n",
    "y_res = 1000\n",
    "unc_asp_tfc = Traffic(unc_asp_tfc_gdf)\n",
    "tfc_unc_xy_gdf = unc_asp_tfc_gdf.to_crs('epsg:27700')\n",
    "tfc_unc_xy_gdf = tfc_unc_xy_gdf.assign(x=tfc_unc_xy_gdf.geometry.x, y=tfc_unc_xy_gdf.geometry.y)"
   ]
  },
  {
   "cell_type": "code",
   "execution_count": null,
   "metadata": {},
   "outputs": [],
   "source": [
    "tfc_agg = tfc_unc_xy_gdf.assign(\n",
    "    x=lambda elt: (elt.x // x_res) * x_res,\n",
    "    y=lambda elt: (elt.y // y_res) * y_res,\n",
    ").groupby([\"x\", \"y\"]).agg(altitude_mean=pd.NamedAgg('altitude', np.nanmean),\n",
    "                          altitude_std=pd.NamedAgg('altitude', np.std), track_mean=pd.NamedAgg('track', np.nanmean),\n",
    "                          track_std=pd.NamedAgg('track', np.nanstd),\n",
    "                          groundspeed_mean=pd.NamedAgg('groundspeed', np.nanmean),\n",
    "                          groundspeed_std=pd.NamedAgg('groundspeed', np.nanstd),\n",
    "                          flight_id_nunique=('flight_id', 'nunique'))\n",
    "tfc_agg['flight_id_nunique'] = tfc_agg['flight_id_nunique']/0.21739"
   ]
  },
  {
   "cell_type": "code",
   "execution_count": null,
   "metadata": {},
   "outputs": [],
   "source": [
    "def make_centrepoint_box(x, y, x_res, y_res):\n",
    "    half_x_res = x_res/2\n",
    "    half_y_res = y_res/2\n",
    "    return sg.box(x-half_x_res, y-half_y_res, x+half_x_res, y+half_y_res)\n",
    "\n",
    "tfc_agg_gdf = tfc_agg.reset_index()\n",
    "# tfc_agg_gdf = gpd.GeoDataFrame(tfc_agg_gdf, geometry=gpd.points_from_xy(tfc_agg_gdf.x, tfc_agg_gdf.y, crs='epsg:3857'))\n",
    "tfc_agg_gdf = gpd.GeoDataFrame(tfc_agg_gdf, geometry=[make_centrepoint_box(x, y, x_res, y_res) for x,y in zip(tfc_agg_gdf.x, tfc_agg_gdf.y)] , crs='epsg:27700')\n",
    "# sg.box"
   ]
  },
  {
   "cell_type": "code",
   "execution_count": null,
   "metadata": {},
   "outputs": [],
   "source": [
    "print(np.mean(np.diff(tfc_agg_gdf.x) % x_res))\n",
    "print(np.mean(np.diff(tfc_agg_gdf.y) % y_res))"
   ]
  },
  {
   "cell_type": "code",
   "execution_count": null,
   "metadata": {},
   "outputs": [],
   "source": [
    "env_gdf = tfc_agg_gdf[tfc_agg_gdf.within(traj_poly.envelope)]"
   ]
  },
  {
   "cell_type": "code",
   "execution_count": null,
   "metadata": {},
   "outputs": [],
   "source": [
    "env_tfc_gdf =  tfc_unc_xy_gdf[tfc_unc_xy_gdf.within(traj_poly.envelope)]\n",
    "# env_tfc_gdf.plot.scatter('x', 'y')"
   ]
  },
  {
   "cell_type": "code",
   "execution_count": null,
   "outputs": [],
   "source": [
    "env_tfc_gdf.flight_id.nunique()"
   ],
   "metadata": {
    "collapsed": false
   }
  },
  {
   "cell_type": "code",
   "execution_count": null,
   "metadata": {
    "pycharm": {
     "is_executing": true
    }
   },
   "outputs": [],
   "source": [
    "from traffic.core import Traffic\n",
    "import tqdm\n",
    "tfc = Traffic(env_tfc_gdf[env_tfc_gdf['altitude'] < 304*2].drop(labels=['geometry', 'name', 'type', 'icaoClass'], axis=1))\n",
    "res = 1000\n",
    "resampled_flights = []\n",
    "for flight in tfc:\n",
    "    try:\n",
    "        print(flight.data.shape)\n",
    "        # print(pd.infer_freq(pd.DatetimeIndex(flight.data.timestamp)))\n",
    "        # print(flight.max('groundspeed'))\n",
    "        print(int(np.floor(res/flight.max('groundspeed'))))\n",
    "        # resampled_flights.append(flight.resample(f\"{2*int(max(np.floor(res/flight.max('groundspeed')), 1))}S\"))\n",
    "        resampled_flights.append(flight.filter().resample(f\"10S\"))\n",
    "    except:\n",
    "        continue\n",
    "\n",
    "print('resampled')\n",
    "resampled_tfc = Traffic.from_flights(resampled_flights)\n",
    "print('serialising')\n",
    "resampled_tfc.to_pickle('../data/southeng/southeng_qa_iow_resample_10s_tfc_2019.pkl.bz2', compression='bz2')"
   ]
  },
  {
   "cell_type": "code",
   "execution_count": null,
   "metadata": {},
   "outputs": [],
   "source": [
    "from traffic.core import Traffic\n",
    "import tqdm\n",
    "tfc = Traffic(env_tfc_gdf[env_tfc_gdf['altitude'] < 304*2].drop(labels=['geometry', 'name', 'type', 'icaoClass'], axis=1))\n",
    "res = 1000\n",
    "# resampled_flights = []\n",
    "def resample(flight):\n",
    "        # print(flight.data.shape)\n",
    "        # print(pd.infer_freq(pd.DatetimeIndex(flight.data.timestamp)))\n",
    "        # print(flight.max('groundspeed'))\n",
    "        # print(int(np.floor(res/flight.max('groundspeed'))))\n",
    "        # resampled_flights.append(flight.resample(f\"{2*int(max(np.floor(res/flight.max('groundspeed')), 1))}S\"))\n",
    "        return flight.filter().resample(f\"30S\")\n",
    "\n",
    "resampled_flights = jl.Parallel(n_jobs=-2, verbose=10)(jl.delayed(resample)(f) for f in tfc)\n",
    "\n",
    "resampled_tfc = Traffic.from_flights(resampled_flights)\n",
    "print('serialising')\n",
    "resampled_tfc.to_pickle('../data/southeng/southeng_qa_iow_resample_10s_tfc_2019.pkl.bz2', compression='bz2')"
   ]
  },
  {
   "cell_type": "code",
   "execution_count": null,
   "metadata": {},
   "outputs": [],
   "source": [
    "lat_intersect_gdf = tfc_agg_gdf[tfc_agg_gdf.intersects(traj_poly)]\n",
    "# d3_intersect_gdf = lat_intersect_gdf[(lat_intersect_gdf['altitude'] <= traj_alt+vert_buffer) & (lat_intersect_gdf['altitude'] >= traj_alt-vert_buffer)]"
   ]
  },
  {
   "cell_type": "code",
   "execution_count": null,
   "metadata": {},
   "outputs": [],
   "source": [
    "lat_raw_tf_intersect_gdf = unc_asp_tfc_gdf[unc_asp_tfc_gdf.intersects(traj_poly)]"
   ]
  },
  {
   "cell_type": "code",
   "execution_count": null,
   "metadata": {},
   "outputs": [],
   "source": [
    "lat_raw_tf_intersect_gdf['hour'] = pd.DatetimeIndex(lat_raw_tf_intersect_gdf['timestamp']).hour\n",
    "lat_raw_tf_intersect_gdf['month'] = pd.DatetimeIndex(lat_raw_tf_intersect_gdf['timestamp']).month"
   ]
  },
  {
   "cell_type": "code",
   "execution_count": null,
   "metadata": {},
   "outputs": [],
   "source": [
    "lat_raw_tf_intersect_gdf"
   ]
  },
  {
   "cell_type": "code",
   "execution_count": null,
   "metadata": {},
   "outputs": [],
   "source": [
    "from cartes.crs import LambertConformal, EPSG_27700, PlateCarree, EuroPP, Mercator, Projection\n",
    "from traffic.drawing import countries, lakes, ocean\n",
    "from traffic.data import airports\n",
    "bounds = (-2.9, 1.5, 50.5, 51.9)\n",
    "\n",
    "fig, ax = plt.subplots(\n",
    "    1, 1, figsize=(12,4), subplot_kw=dict(projection=Projection('epsg:3857')),\n",
    ")\n",
    "\n",
    "ax.add_feature(countries())\n",
    "ax.add_feature(lakes())\n",
    "ax.add_feature(ocean())\n",
    "# ax.set_extent(bounds)\n",
    "# ax.set_global()\n",
    "tfc_magg = tfc_agg\n",
    "\n",
    "xs = np.sort(tfc_magg['flight_id_nunique'].reset_index()['x'].unique().astype(int))\n",
    "ys = np.sort(tfc_magg['flight_id_nunique'].reset_index()['y'].unique().astype(int))\n",
    "\n",
    "pcm = ax.pcolormesh(xs, ys, np.log(tfc_magg['flight_id_nunique'].reset_index().pivot_table('flight_id_nunique', 'y', 'x', fill_value=np.nan))\n",
    ", cmap='inferno', alpha=0.5)\n",
    "\n",
    "# ax.add_geometries([traj_poly], 'epsg:3857', facecolor='red', edgecolor='red', alpha=0.3)\n",
    "\n",
    "airports['EGHL'].point.plot(ax, alpha=0.2)\n",
    "airports['EGTK'].point.plot(ax, alpha=0.2)\n",
    "airports['EGKA'].point.plot(ax, alpha=0.2)\n",
    "airports['EGMD'].point.plot(ax, alpha=0.2)\n",
    "airports['EGTB'].point.plot(ax, alpha=0.2)\n",
    "airports['EGHO'].point.plot(ax, alpha=0.2)\n",
    "airports['EGBP'].point.plot(ax, alpha=0.2)\n",
    "airports['EGKH'].point.plot(ax, alpha=0.2)\n",
    "\n",
    "cb = fig.colorbar(pcm)\n",
    "cb.set_label('ln Traffic Counts')\n",
    "ax.set_title('UK Uncontrolled Airspace Traffic Density 2019, <5000ft')\n",
    "\n",
    "fig.tight_layout()\n",
    "fig.savefig('full_unc_counts.svg')"
   ]
  },
  {
   "cell_type": "code",
   "execution_count": null,
   "metadata": {},
   "outputs": [],
   "source": [
    "traj_poly.bounds"
   ]
  },
  {
   "cell_type": "code",
   "execution_count": null,
   "metadata": {},
   "outputs": [],
   "source": [
    "from cartes.crs import LambertConformal, EPSG_27700, PlateCarree, EuroPP, Mercator, Projection\n",
    "from traffic.drawing import countries, lakes, ocean\n",
    "import shapely.geometry as sg\n",
    "bounds = (-2.9, 1.5, 50.5, 51.9)\n",
    "\n",
    "fig, ax = plt.subplots(\n",
    "    1, 1, figsize=(12,6), subplot_kw=dict(projection=Projection('epsg:3857')),\n",
    ")\n",
    "\n",
    "ax.add_feature(countries())\n",
    "ax.add_feature(lakes())\n",
    "ax.add_feature(ocean())\n",
    "ax.set_extent((-1.32, -0.91, 50.69, 50.86))#[traj_poly.bounds[0],traj_poly.bounds[2], traj_poly.bounds[1],traj_poly.bounds[3]])\n",
    "# ax.set_global()\n",
    "\n",
    "xs = np.sort(tfc_agg_gdf[tfc_agg_gdf.within(traj_poly.envelope)]['x'].unique().astype(int))\n",
    "ys = np.sort(tfc_agg_gdf[tfc_agg_gdf.within(traj_poly.envelope)]['y'].unique().astype(int))\n",
    "\n",
    "ax.add_geometries([traj_poly], 'epsg:3857', facecolor='red', edgecolor='red', alpha=0.3)\n",
    "\n",
    "pcm = ax.pcolormesh(xs, ys, np.log(tfc_agg_gdf[tfc_agg_gdf.within(traj_poly.envelope)].pivot_table('flight_id_nunique', 'y', 'x', fill_value=np.nan))\n",
    ", cmap='inferno', alpha=0.5)\n",
    "\n",
    "\n",
    "cb = fig.colorbar(pcm)\n",
    "cb.set_label('ln Traffic Counts')\n",
    "ax.set_title('UK Uncontrolled Airspace Traffic Density 2019, <5000ft')\n",
    "\n",
    "fig.tight_layout()\n",
    "fig.savefig('geom_unc_counts.png')"
   ]
  },
  {
   "cell_type": "code",
   "execution_count": null,
   "metadata": {},
   "outputs": [],
   "source": [
    "cell_vol = x_res * y_res * 304.8 * 5 # Up to 5000ft\n",
    "FT2M = 0.3048\n",
    "HRS_IN_YR = 8766\n",
    "buffer_mean_tfc_dens = lat_intersect_gdf['flight_id_nunique'].sum()/(traj_poly.area*2*vert_buffer)/HRS_IN_YR\n",
    "buffer_max_tfc_dens = lat_intersect_gdf['flight_id_nunique'].max()/cell_vol/HRS_IN_YR\n",
    "print(f'Along trajectory buffer:')\n",
    "print(f'Mean traffic density is {buffer_mean_tfc_dens:.6} aircraft/m^3/hour equiv to 1 aircraft per {np.sqrt(1/(buffer_mean_tfc_dens*500*FT2M))/9:.6}m x 500ft in an hour')\n",
    "print(f'Max traffic density is {buffer_max_tfc_dens:.6} aircraft/m^3/hour equiv to 1 aircraft per {np.sqrt(1/(buffer_max_tfc_dens*500*FT2M))/9:.6}m x 500ft in an hour')\n"
   ]
  },
  {
   "cell_type": "code",
   "execution_count": null,
   "metadata": {},
   "outputs": [],
   "source": [
    "n_lis_sq = len(lat_raw_tf_intersect_gdf[lat_raw_tf_intersect_gdf['squawk'].isin(['4306', '7011'])])\n",
    "print(f'{n_lis_sq} aircraft are on local listening squawks. This is {n_lis_sq/len(lat_raw_tf_intersect_gdf):.1%} of aircraft along trajectory')"
   ]
  },
  {
   "cell_type": "markdown",
   "metadata": {},
   "source": [
    "### Traffic Motion Distributions:"
   ]
  },
  {
   "cell_type": "code",
   "execution_count": null,
   "metadata": {},
   "outputs": [],
   "source": [
    "fig, ax = plt.subplots(\n",
    "    1, 1, figsize=(12,6),\n",
    ")\n",
    "\n",
    "(lat_raw_tf_intersect_gdf['altitude']/FT2M).hist(ax=ax, density=True, bins=8)\n",
    "ax.set(title='Traffic altitude along trajectory buffer', xlabel='Altitude [ft] 500ft Bins', ylabel='Freq Density')"
   ]
  },
  {
   "cell_type": "code",
   "execution_count": null,
   "metadata": {},
   "outputs": [],
   "source": [
    "fig, ax = plt.subplots(\n",
    "    1, 1, figsize=(12,6),\n",
    ")\n",
    "\n",
    "(lat_raw_tf_intersect_gdf['track']).hist(ax=ax, density=True, bins=18)\n",
    "ax.set(title='Traffic track along trajectory buffer', xlabel='Track [deg] 20deg Bins', ylabel='Freq Density')"
   ]
  },
  {
   "cell_type": "code",
   "execution_count": null,
   "metadata": {},
   "outputs": [],
   "source": [
    "fig, ax = plt.subplots(\n",
    "    1, 1, figsize=(12,6),\n",
    ")\n",
    "\n",
    "(lat_raw_tf_intersect_gdf['groundspeed']).hist(ax=ax, density=True)\n",
    "ax.set(title='Traffic speed along trajectory buffer', xlabel='Speed [m/s]', ylabel='Freq Density')"
   ]
  },
  {
   "cell_type": "code",
   "execution_count": null,
   "metadata": {},
   "outputs": [],
   "source": [
    "fig, ax = plt.subplots(\n",
    "    1, 1, figsize=(12,6),\n",
    ")\n",
    "\n",
    "(lat_raw_tf_intersect_gdf['hour']).hist(ax=ax, density=True, bins=24)\n",
    "ax.set(title='Traffic encounter Hour of Day', xlabel='Hour of Day', ylabel='Freq Density')"
   ]
  },
  {
   "cell_type": "markdown",
   "metadata": {},
   "source": [
    "## Probability of Collision:\n",
    "## The Ideal Gas method\n",
    "For this section, we assume the traffic becomes an ideal gas, such that we can model it with the usual ideal gas law:\n",
    "\n",
    "$$pV=nRt=n k_B N_A T = N k_B T$$\n",
    "\n",
    "Obviously, we aren't dealing with an actual gas, therefore Boltzmann's relations between energy and temperature are not useful for us here. We can rewrite this using our own variables:\n",
    "\n",
    "$$ p_{MAC} = \\rho_t A_C |\\vec{\\overline{v_R}}| t$$\n",
    "\n",
    "where:\n",
    "- $p_{MAC}$ is the probability of mid air collision for within a period $t$\n",
    "- $\\rho_t$ is the air traffic density\n",
    "- $A_C$ is the projected collision area. This is assumed to be the maximum cross section of an aircraft.\n",
    "- $\\vec{\\overline{v_R}}$ is the mean relative velocity vector between aircraft.\n",
    "- $t$ is the time horizon\n",
    "\n",
    "Next, we make some assumptions"
   ]
  },
  {
   "cell_type": "code",
   "execution_count": null,
   "metadata": {},
   "outputs": [],
   "source": [
    "v_ac = 80 # ~250kts\n",
    "A_C = 20*15\n",
    "t = 1 # density is already per hour"
   ]
  },
  {
   "cell_type": "code",
   "execution_count": null,
   "metadata": {},
   "outputs": [],
   "source": [
    "v_rel_max = lat_raw_tf_intersect_gdf['groundspeed'].max() + v_ac # assume worst case head on\n",
    "v_rel_mean = lat_raw_tf_intersect_gdf['groundspeed'].astype(float).mean() + v_ac # assume worst case head on\n",
    "p_mac_max = float(buffer_max_tfc_dens) * A_C * v_rel_max * t\n",
    "p_mac_mean = float(buffer_mean_tfc_dens) * A_C * v_rel_mean * t\n",
    "print(f'Unmitigated Max Collision Probability is {p_mac_max:.3e} per flight hour, equiv to a single collision every {1/(p_mac_max*HRS_IN_YR):.3} years.')\n",
    "print(f'Unmitigated Mean Collision Probability is {p_mac_mean:.3e} per flight hour, equiv to a single collision every {1/(p_mac_mean*HRS_IN_YR):.4} years.')"
   ]
  },
  {
   "cell_type": "markdown",
   "metadata": {},
   "source": [
    "## Agent Based Simulation Method\n",
    "\n",
    "Here we use a simulated environment that is formed of 2 main components:\n",
    "\n",
    "- Background Traffic\n",
    "- Ownship Agent\n",
    "\n",
    "As we are not really looking at the collision rate of the existing aircraft already flying around, instead we are interested in the potential collisions between our own aircraft/UAS (ownship) and the existing traffic. Therefore the simulation is divided along this line.\n",
    "\n",
    "The background traffic is generated based on the traffic motion distributions for the area of operation (ie the ones above) and the maximum traffic density (although this can be mean as well, however we are angling for a feasible worst case).\n",
    "\n",
    "The ownship then follows the trajectory path being analysed and any conflicts are recorded. This simulation is performed a great number of times following a Monte Carlo methodology. The conflict occurences can then be aggregated to form overall statistics for the expected collision rate specific to that operation."
   ]
  },
  {
   "cell_type": "code",
   "execution_count": null,
   "metadata": {},
   "outputs": [],
   "source": [
    "from abs_specific import Simulation, Traffic, OwnshipAgent\n",
    "import scipy.stats as ss\n",
    "import os\n",
    "\n",
    "# import dask\n",
    "# from dask.distributed import Client, LocalCluster\n",
    "#\n",
    "# cluster = LocalCluster()\n",
    "# client = Client()\n",
    "\n",
    "# import ray\n",
    "# ray.init(log_to_driver=False, ignore_reinit_error=True)"
   ]
  },
  {
   "cell_type": "code",
   "execution_count": null,
   "metadata": {},
   "outputs": [],
   "source": [
    "ownship_velocity = 70 #m/s\n",
    "target_sim_hrs = 2.7e4\n",
    "sim_per_batch = 500\n",
    "\n",
    "# Sim compute setup\n",
    "n_cores = int(os.cpu_count())\n",
    "target_sim_secs = target_sim_hrs * 60 * 60\n",
    "path_length = traj_gdf.iloc[0][0].length\n",
    "exp_secs_per_sim = path_length / ownship_velocity\n",
    "exp_n_sims = np.ceil(target_sim_secs / exp_secs_per_sim)\n",
    "exp_n_jobs = int(np.ceil(exp_n_sims/sim_per_batch))\n",
    "print(f'{exp_n_jobs} jobs at {sim_per_batch} simulations per job')"
   ]
  },
  {
   "cell_type": "code",
   "execution_count": null,
   "metadata": {},
   "outputs": [],
   "source": [
    "path_length"
   ]
  },
  {
   "cell_type": "code",
   "execution_count": null,
   "metadata": {},
   "outputs": [],
   "source": [
    "tb = traj_poly.envelope.bounds\n",
    "sim_bounds = [tb[0], tb[2], tb[1], tb[3], 0, 1524]\n",
    "sim_tfc_density = 1e-9 #tfc_agg_gdf[tfc_agg_gdf.within(traj_poly.envelope)]['flight_id_nunique'].max()/cell_vol/HRS_IN_YR\n",
    "env_tfc = unc_asp_tfc_gdf[unc_asp_tfc_gdf.intersects(traj_poly.envelope)]\n",
    "env_vel_kde = ss.gaussian_kde(env_tfc['groundspeed'])\n",
    "env_track_kde = ss.gaussian_kde(env_tfc['track'])\n",
    "\n",
    "own_path = np.hstack((np.array(traj_gdf.iloc[0][0].coords), traj_alt * np.ones((len(traj_gdf.iloc[0][0].coords)))[:, None]))\n",
    "\n",
    "own_args = (own_path, ownship_velocity)\n",
    "tfc_args = (sim_bounds, sim_tfc_density, env_vel_kde, ss.norm(0, 2), env_track_kde)\n",
    "steps = 5000"
   ]
  },
  {
   "cell_type": "code",
   "execution_count": null,
   "metadata": {},
   "outputs": [],
   "source": [
    "def run_sim(own_args, tfc_args, steps):\n",
    "    seed = int.from_bytes(os.urandom(8), byteorder=\"big\") % ((2**32) - 1)\n",
    "    bg_tfc = Traffic(*tfc_args, seed=seed)\n",
    "    own = OwnshipAgent(*own_args)\n",
    "\n",
    "    spec_sim = Simulation(bg_tfc, own, steps=steps, seed=seed, conflict_dists=(20,20))\n",
    "    spec_sim.run()\n",
    "    # print(hash(spec_sim.traffic.positions.data.tobytes()))\n",
    "    return spec_sim\n",
    "\n",
    "\n",
    "def run_batch_sim(batch_size, own_args, tfc_args, steps):\n",
    "    sims = [run_sim(own_args, tfc_args, steps) for _ in range(batch_size)]\n",
    "    sim_ids = [s.sim_id for s in sims]\n",
    "    sim_seeds = [s.sim_seed for s in sims]\n",
    "    sims_conflict_sums = [s.conflict_log for s in sims]\n",
    "    sims_times = [s.end_timestep for s in sims]\n",
    "    db_data = zip(sim_ids, sim_seeds, sims_times, sims_conflict_sums)\n",
    "\n",
    "    dbcon = sqlite3.connect('../data/abs-specific.db')\n",
    "    dbcur = dbcon.cursor()\n",
    "    dbcur.executemany(\"INSERT INTO sims VALUES (?,?,?,?)\", db_data)\n",
    "    dbcon.commit()\n",
    "\n",
    "    # return sims\n",
    "\n",
    "# sims = [run_sim(own_args, tfc_args, steps) for _ in range(20)]\n",
    "\n",
    "# jl.Parallel(n_jobs=n_cores, verbose=15, )(jl.delayed(run_batch_sim)(sim_per_batch, own_args, tfc_args, steps) for _ in range(exp_n_jobs))\n",
    "\n",
    "# sims = [dask.delayed(run_batch_sim)(sim_per_batch, own_args, tfc_args, steps) for _ in range(exp_n_jobs)]\n",
    "# dask.compute(*sims)\n",
    "\n",
    "# sims = [run_batch_sim.remote(sim_per_batch, own_args, tfc_args, steps) for _ in range(exp_n_jobs)]\n",
    "# ray.get(sims)"
   ]
  },
  {
   "cell_type": "code",
   "execution_count": null,
   "metadata": {},
   "outputs": [],
   "source": [
    "# Setup the database for logging of runs\n",
    "import sqlite3\n",
    "dbcon = sqlite3.connect('../data/abs-specific.5e-11.db')\n",
    "dbcur = dbcon.cursor()\n",
    "dbcur.execute(\"CREATE TABLE IF NOT EXISTS sims(id, seed, timesteps, n_conflicts)\")"
   ]
  },
  {
   "cell_type": "code",
   "execution_count": null,
   "metadata": {},
   "outputs": [],
   "source": [
    "res = dbcur.execute(\"SELECT * FROM sims\").fetchall()"
   ]
  },
  {
   "cell_type": "code",
   "execution_count": null,
   "metadata": {},
   "outputs": [],
   "source": [
    "sim_data = np.array(res)[:, 2:]\n",
    "sim_data = np.cumsum(sim_data, axis=0)\n",
    "n_sims = sim_data.shape[0]\n",
    "n_conflicts = sim_data[-1,1]\n",
    "sim_data = np.hstack((sim_data, (sim_data[:, 1] / (sim_data[:, 0]/3600))[:, None]))"
   ]
  },
  {
   "cell_type": "code",
   "execution_count": null,
   "metadata": {},
   "outputs": [],
   "source": [
    "print(f'Probability: {n_conflicts/n_sims:2e}')"
   ]
  },
  {
   "cell_type": "code",
   "execution_count": null,
   "metadata": {},
   "outputs": [],
   "source": [
    "data = np.array(res)[:, 2:]\n",
    "means = data.mean(axis=0)\n",
    "means[0] /= 3600\n",
    "print(f'{means[1]/means[0]:2e}')"
   ]
  },
  {
   "cell_type": "code",
   "execution_count": null,
   "metadata": {},
   "outputs": [],
   "source": [
    "print(sim_data.shape[0], ' sims run')\n",
    "print(f'{sim_data.shape[0] * exp_secs_per_sim/3600:.2e} hours run' )"
   ]
  },
  {
   "cell_type": "code",
   "execution_count": null,
   "metadata": {},
   "outputs": [],
   "source": [
    "fig, ax = plt.subplots(\n",
    "    1, 1, figsize=(12,6),\n",
    ")\n",
    "\n",
    "ax.plot(range(sim_data.shape[0]), sim_data[:, 2])\n",
    "ax.axhline(np.median(sim_data[:,2]), color='red', linestyle=':')\n",
    "# ax.set_xscale('symlog')\n",
    "ax.set_yscale('log')\n",
    "ax.set_title(\"ABS convergence for Traffic Density 5e-11 m$^{-3}$ hr$^{-1}$\")\n",
    "ax.set_xlabel(\"Operations Simulated\")\n",
    "ax.set_ylabel(\"uMAC Risk/hour\")\n",
    "print(f'Median uMAC rate {np.median(sim_data[:,2]):2e} per hour')"
   ]
  },
  {
   "cell_type": "code",
   "execution_count": null,
   "metadata": {},
   "outputs": [],
   "source": [
    "conflict_sum = sim_data[:, 2].sum()\n",
    "sim_hrs = sim_data[:, 1].sum() / (60*60)\n",
    "sim_ops = sim_data.shape[0]\n",
    "mean_col_rate = conflict_sum / sim_hrs\n",
    "\n",
    "\n",
    "print(f'{sim_hrs} flight hrs of operations simulated equiv. to {exp_n_sims} individual operations')\n",
    "print(f'Max unmitigated collision rate {conflict_sum / sim_hrs:.2e} collisions per hour')\n",
    "print(f'Max unmitigated collision rate {conflict_sum / sim_ops:.2e} collisions per operation or one unmitigated collision per {sim_ops / conflict_sum} operations')"
   ]
  },
  {
   "cell_type": "code",
   "execution_count": null,
   "metadata": {},
   "outputs": [],
   "source": []
  }
 ],
 "metadata": {
  "kernelspec": {
   "display_name": "Python 3 (ipykernel)",
   "language": "python",
   "name": "python3"
  },
  "language_info": {
   "codemirror_mode": {
    "name": "ipython",
    "version": 3
   },
   "file_extension": ".py",
   "mimetype": "text/x-python",
   "name": "python",
   "nbconvert_exporter": "python",
   "pygments_lexer": "ipython3",
   "version": "3.10.6"
  }
 },
 "nbformat": 4,
 "nbformat_minor": 1
}
