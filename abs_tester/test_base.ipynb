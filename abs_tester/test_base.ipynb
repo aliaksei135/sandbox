{
 "cells": [
  {
   "cell_type": "markdown",
   "source": [
    "# Sensitivity Analysis for ABS\n",
    "\n",
    "Author: A.Pilko <a.pilko@soton.ac.uk>"
   ],
   "metadata": {
    "collapsed": false
   }
  },
  {
   "cell_type": "code",
   "execution_count": null,
   "outputs": [],
   "source": [
    "import numpy as np\n",
    "import pandas as pd\n",
    "import os\n",
    "import sys\n",
    "from pyDOE2 import *\n",
    "import subprocess\n",
    "import joblib as jl"
   ],
   "metadata": {
    "collapsed": false
   }
  },
  {
   "cell_type": "markdown",
   "source": [
    "### Parameters\n"
   ],
   "metadata": {
    "collapsed": false
   }
  },
  {
   "cell_type": "code",
   "execution_count": 114,
   "outputs": [],
   "source": [
    "## Constants\n",
    "BOUNDS = '-145176.17270300398,-101964.24515822314,6569893.199178016,6595219.236650961,0,1524'\n",
    "PROJ_PATH = '/home/aliaksei/PycharmProjects/sandbox/abs_tester/'\n",
    "OWNPATH_PATH = PROJ_PATH + 'test_data/path.csv'\n",
    "OWNPATH_PATH_LENGTH = 68818.61266545641\n",
    "ALTS_PATH = PROJ_PATH + 'test_data/alts.csv'\n",
    "TRACKS_PATH = PROJ_PATH + 'test_data/tracks.csv'\n",
    "VELS_PATH = PROJ_PATH + 'test_data/vels.csv'\n",
    "VERTS_PATH = PROJ_PATH + 'test_data/vert_rates.csv'\n",
    "\n",
    "BINARY_NAME = '/home/aliaksei/GoProjects/abs-specific/abs-specific'\n",
    "cmd_args = [BINARY_NAME, '--bounds', BOUNDS, '--simOps', '100000', '--altDataPath', ALTS_PATH,'--velDataPath', VELS_PATH, '--trackDataPath', TRACKS_PATH, '--vertRateDataPath', VERTS_PATH, '--ownPath', OWNPATH_PATH]\n",
    "\n",
    "RESULT_DIR = PROJ_PATH + 'results'"
   ],
   "metadata": {
    "collapsed": false
   }
  },
  {
   "cell_type": "markdown",
   "source": [
    "### Design of Experiments"
   ],
   "metadata": {
    "collapsed": false
   }
  },
  {
   "cell_type": "code",
   "execution_count": 115,
   "outputs": [
    {
     "data": {
      "text/plain": "array([[5.e-10, 2.e+00, 0.e+00],\n       [1.e-10, 2.e+00, 0.e+00],\n       [5.e-12, 2.e+00, 0.e+00],\n       [5.e-10, 5.e-01, 0.e+00],\n       [1.e-10, 5.e-01, 0.e+00],\n       [5.e-12, 5.e-01, 0.e+00],\n       [5.e-10, 1.e+00, 0.e+00],\n       [1.e-10, 1.e+00, 0.e+00],\n       [5.e-12, 1.e+00, 0.e+00],\n       [5.e-10, 2.e+00, 1.e+00],\n       [1.e-10, 2.e+00, 1.e+00],\n       [5.e-12, 2.e+00, 1.e+00],\n       [5.e-10, 5.e-01, 1.e+00],\n       [1.e-10, 5.e-01, 1.e+00],\n       [5.e-12, 5.e-01, 1.e+00],\n       [5.e-10, 1.e+00, 1.e+00],\n       [1.e-10, 1.e+00, 1.e+00],\n       [5.e-12, 1.e+00, 1.e+00]])"
     },
     "execution_count": 115,
     "metadata": {},
     "output_type": "execute_result"
    }
   ],
   "source": [
    "traffic_density_levels = [5e-10, 1e-10, 5e-12]\n",
    "timestep_levels = [2, 0.5, 1]\n",
    "surface_entrance_levels = [0,1]\n",
    "\n",
    "design_matrix = fullfact([len(traffic_density_levels), len(timestep_levels), len(surface_entrance_levels)])\n",
    "def fill_dm(row):\n",
    "    return traffic_density_levels[int(row[0])], timestep_levels[int(row[1])], surface_entrance_levels[int(row[2])]\n",
    "design_matrix = np.apply_along_axis(fill_dm, 1, design_matrix)\n",
    "design_matrix"
   ],
   "metadata": {
    "collapsed": false
   }
  },
  {
   "cell_type": "code",
   "execution_count": 116,
   "outputs": [],
   "source": [
    "def run(traffic_density, timestep, surface_entrance):\n",
    "    output_db_name = f'{RESULT_DIR}/out_{traffic_density:.1e}_{timestep:.1e}_{bool(surface_entrance)}.db'\n",
    "    # print(' '.join(cmd_args + ['--db-path', output_db_name,'--target-density', str(traffic_density), '--timestep', str(timestep)]))\n",
    "    os.system(' '.join(cmd_args + ['--dbPath', output_db_name,'--target-density', str(traffic_density), '--timestep', str(timestep), '--surfaceEntrance', str(bool(surface_entrance)).lower()]))\n",
    "\n",
    "# for row in design_matrix:\n",
    "#     run(*row)"
   ],
   "metadata": {
    "collapsed": false
   }
  },
  {
   "cell_type": "code",
   "execution_count": 117,
   "outputs": [
    {
     "name": "stderr",
     "output_type": "stream",
     "text": [
      "[Parallel(n_jobs=-1)]: Using backend LokyBackend with 16 concurrent workers.\n"
     ]
    },
    {
     "name": "stdout",
     "output_type": "stream",
     "text": [
      "Created/Opened output database\n",
      "Running 16 batches of 6250 simulations\n",
      "Simulating 27308.97327994302 hrs, with 0.2730897327994302 hrs per simulation\n",
      "Created/Opened output database\n",
      "Created/Opened output database\n",
      "Running 16 batches of 6250 simulations\n",
      "Running 16 batches of 6250 simulations\n",
      "Simulating 27308.97327994302 hrs, with 0.2730897327994302 hrs per simulation\n",
      "Simulating 27308.97327994302 hrs, with 0.2730897327994302 hrs per simulation\n",
      "Created/Opened output database\n",
      "Running 16 batches of 6250 simulations\n",
      "Simulating 27308.97327994302 hrs, with 0.2730897327994302 hrs per simulation\n",
      "Created/Opened output database\n",
      "Running 16 batches of 6250 simulations\n",
      "Simulating 27308.97327994302 hrs, with 0.2730897327994302 hrs per simulation\n",
      "Created/Opened output database\n",
      "Running 16 batches of 6250 simulations\n",
      "Simulating 27308.97327994302 hrs, with 0.2730897327994302 hrs per simulation\n",
      "Created/Opened output database\n",
      "Running 16 batches of 6250 simulations\n",
      "Simulating 27308.97327994302 hrs, with 0.2730897327994302 hrs per simulation\n",
      "Created/Opened output database\n",
      "Running 16 batches of 6250 simulations\n",
      "Simulating 27308.97327994302 hrs, with 0.2730897327994302 hrs per simulation\n",
      "Created/Opened output database\n",
      "Running 16 batches of 6250 simulations\n",
      "Simulating 27308.97327994302 hrs, with 0.2730897327994302 hrs per simulation\n",
      "Created/Opened output database\n",
      "Running 16 batches of 6250 simulations\n",
      "Simulating 27308.97327994302 hrs, with 0.2730897327994302 hrs per simulation\n",
      "Created/Opened output database\n",
      "Running 16 batches of 6250 simulations\n",
      "Simulating 27308.97327994302 hrs, with 0.2730897327994302 hrs per simulation\n",
      "Created/Opened output database\n",
      "Running 16 batches of 6250 simulations\n",
      "Simulating 27308.97327994302 hrs, with 0.2730897327994302 hrs per simulation\n",
      "Created/Opened output database\n",
      "Running 16 batches of 6250 simulations\n",
      "Simulating 27308.97327994302 hrs, with 0.2730897327994302 hrs per simulation\n",
      "Created/Opened output database\n",
      "Running 16 batches of 6250 simulations\n",
      "Simulating 27308.97327994302 hrs, with 0.2730897327994302 hrs per simulation\n",
      "Created/Opened output database\n",
      "Running 16 batches of 6250 simulations\n",
      "Simulating 27308.97327994302 hrs, with 0.2730897327994302 hrs per simulation\n",
      "Created/Opened output database\n",
      "Running 16 batches of 6250 simulations\n",
      "Simulating 27308.97327994302 hrs, with 0.2730897327994302 hrs per simulation\n",
      "Formatting 100000 results for database insertion\n",
      "Formatting 100000 results for database insertion\n",
      "Inserting results into database\n",
      "Inserting results into database\n",
      "Completed successfully in 74.886756535 seconds.\n",
      " 7.488675653500001e-07 ms per simulation.\n",
      " 0.0027422032958668687 secs per simulated hour.\n",
      "Exiting...\n",
      "Created/Opened output database\n",
      "Running 16 batches of 6250 simulations\n",
      "Simulating 27308.97327994302 hrs, with 0.2730897327994302 hrs per simulation\n",
      "Completed successfully in 75.372540734 seconds.\n",
      " 7.5372540734e-07 ms per simulation.\n",
      " 0.0027599917419582043 secs per simulated hour.\n",
      "Exiting...\n",
      "Created/Opened output database\n",
      "Running 16 batches of 6250 simulations\n",
      "Simulating 27308.97327994302 hrs, with 0.2730897327994302 hrs per simulation\n",
      "Formatting 100000 results for database insertion\n",
      "Inserting results into database\n",
      "Completed successfully in 138.302700195 seconds.\n",
      " 1.38302700195e-06 ms per simulation.\n",
      " 0.0050643683589736395 secs per simulated hour.\n",
      "Exiting...\n",
      "Formatting 100000 results for database insertion\n",
      "Inserting results into database\n",
      "Completed successfully in 135.078803272 seconds.\n",
      " 1.3507880327199999e-06 ms per simulation.\n",
      " 0.004946315699507024 secs per simulated hour.\n",
      "Exiting...\n",
      "Formatting 100000 results for database insertion\n",
      "Formatting 100000 results for database insertion\n",
      "Inserting results into database\n",
      "Inserting results into database\n",
      "Completed successfully in 254.232825977 seconds.\n",
      " 2.54232825977e-06 ms per simulation.\n",
      " 0.009309497774627815 secs per simulated hour.\n",
      "Exiting...\n",
      "Completed successfully in 254.059917387 seconds.\n",
      " 2.54059917387e-06 ms per simulation.\n",
      " 0.009303166207775136 secs per simulated hour.\n",
      "Exiting...\n"
     ]
    },
    {
     "name": "stderr",
     "output_type": "stream",
     "text": [
      "[Parallel(n_jobs=-1)]: Done   6 out of  18 | elapsed:  4.3min remaining:  8.5min\n"
     ]
    },
    {
     "name": "stdout",
     "output_type": "stream",
     "text": [
      "Formatting 100000 results for database insertion\n",
      "Inserting results into database\n",
      "Completed successfully in 605.235702603 seconds.\n",
      " 6.052357026030001e-06 ms per simulation.\n",
      " 0.022162521322158724 secs per simulated hour.\n",
      "Exiting...\n",
      "Formatting 100000 results for database insertion\n",
      "Inserting results into database\n",
      "Completed successfully in 609.988335075 seconds.\n",
      " 6.09988335075e-06 ms per simulation.\n",
      " 0.02233655322087864 secs per simulated hour.\n",
      "Exiting...\n",
      "Formatting 100000 results for database insertion\n",
      "Inserting results into database\n",
      "Completed successfully in 1069.348298906 seconds.\n",
      " 1.069348298906e-05 ms per simulation.\n",
      " 0.03915739665289354 secs per simulated hour.\n",
      "Exiting...\n",
      "Formatting 100000 results for database insertion\n",
      "Inserting results into database\n",
      "Completed successfully in 1029.303301389 seconds.\n",
      " 1.0293033013889998e-05 ms per simulation.\n",
      " 0.037691028909716214 secs per simulated hour.\n",
      "Exiting...\n"
     ]
    },
    {
     "name": "stderr",
     "output_type": "stream",
     "text": [
      "\n",
      "KeyboardInterrupt\n",
      "\n"
     ]
    }
   ],
   "source": [
    "jl.Parallel(n_jobs=-1, verbose=10)(jl.delayed(run)(*row) for row in design_matrix)"
   ],
   "metadata": {
    "collapsed": false
   }
  },
  {
   "cell_type": "code",
   "execution_count": 120,
   "outputs": [
    {
     "name": "stdout",
     "output_type": "stream",
     "text": [
      "['out', '5.0e-12', '2.0e+00', 'False']\n",
      "['out', '1.0e-13', '3.0e+00', 'False']\n"
     ]
    },
    {
     "name": "stderr",
     "output_type": "stream",
     "text": [
      "/tmp/ipykernel_6619/1143228051.py:46: RuntimeWarning: invalid value encountered in double_scalars\n",
      "  conv_metric = 1- (np.abs(np.diff(sim_data[-5000:,2]).sum())/median_col_rate)\n"
     ]
    },
    {
     "name": "stdout",
     "output_type": "stream",
     "text": [
      "['out', '1.0e-13', '2.0e+00', 'True']\n",
      "['out', '1.0e-09', '5.0e-01', 'False']\n",
      "['out', '1.0e-13', '1.0e+00', 'False']\n",
      "['out', '1.0e-12', '1.0e+00', 'False']\n",
      "['out', '1.0e-12', '3.0e+00', 'True']\n",
      "['out', '5.0e-11', '2.0e+00', 'False']\n",
      "['out', '1.0e-10', '2.0e+00', 'True']\n",
      "['out', '1.0e-13', '1.0e-01', 'True']\n",
      "['out', '1.0e-12', '3.0e+00', 'False']\n",
      "['out', '1.0e-11', '1.0e+00', 'False']\n",
      "['out', '1.0e-10', '2.0e+00', 'False']\n",
      "['out', '1.0e-09', '1.0e+00', 'False']\n",
      "['out', '5.0e-12', '5.0e-01', 'False']\n",
      "['out', '1.0e-11', '1.0e-01', 'True']\n",
      "['out', '1.0e-11', '3.0e+00', 'False']\n",
      "['out', '1.0e-12', '1.0e+00', 'True']\n"
     ]
    },
    {
     "name": "stderr",
     "output_type": "stream",
     "text": [
      "/tmp/ipykernel_6619/1143228051.py:46: RuntimeWarning: divide by zero encountered in double_scalars\n",
      "  conv_metric = 1- (np.abs(np.diff(sim_data[-5000:,2]).sum())/median_col_rate)\n"
     ]
    },
    {
     "name": "stdout",
     "output_type": "stream",
     "text": [
      "['out', '5.0e-12', '1.0e+00', 'True']\n",
      "['out', '1.0e-15', '1.0e+00', 'True']\n",
      "['out', '1.0e-15', '1.0e+00', 'False']\n",
      "['out', '1.0e-15', '2.0e+00', 'True']\n",
      "['out', '1.0e-09', '1.0e+00', 'True']\n",
      "['out', '1.0e-13', '3.0e+00', 'True']\n",
      "['out', '5.0e-12', '5.0e-01', 'True']\n",
      "['out', '1.0e-13', '5.0e-01', 'False']\n",
      "['out', '1.0e-11', '1.0e-01', 'False']\n",
      "['out', '1.0e-12', '2.0e+00', 'True']\n",
      "['out', '1.0e-10', '1.0e+00', 'False']\n",
      "['out', '1.0e-11', '2.0e+00', 'True']\n",
      "['out', '1.0e-13', '5.0e-01', 'True']\n",
      "['out', '1.0e-11', '5.0e-01', 'True']\n",
      "['out', '1.0e-15', '3.0e+00', 'False']\n",
      "['out', '1.0e-11', '2.0e+00', 'False']\n",
      "['out', '1.0e-10', '1.0e+00', 'True']\n",
      "['out', '1.0e-11', '3.0e+00', 'True']\n",
      "['out', '1.0e-13', '2.0e+00', 'False']\n",
      "['out', '1.0e-09', '5.0e-01', 'True']\n",
      "['out', '5.0e-12', '1.0e+00', 'False']\n",
      "['out', '1.0e-13', '1.0e+00', 'True']\n",
      "['out', '1.0e-12', '2.0e+00', 'False']\n",
      "['out', '1.0e-13', '1.0e-01', 'False']\n",
      "['out', '5.0e-12', '2.0e+00', 'True']\n",
      "['out', '1.0e-09', '1.0e-01', 'False']\n",
      "['out', '1.0e-09', '1.0e-01', 'True']\n",
      "['out', '1.0e-11', '5.0e-01', 'False']\n",
      "['out', '1.0e-11', '1.0e+00', 'True']\n",
      "['out', '1.0e-15', '2.0e+00', 'False']\n",
      "['out', '1.0e-15', '3.0e+00', 'True']\n"
     ]
    }
   ],
   "source": [
    "import sqlite3\n",
    "from glob import glob\n",
    "from pathlib import Path\n",
    "import matplotlib.pyplot as plt\n",
    "import pandas as pd\n",
    "\n",
    "results = []\n",
    "\n",
    "for db in glob(RESULT_DIR+'/**'):\n",
    "    filename = Path(db).stem\n",
    "    tokens = filename.split('_')\n",
    "    traffic_density = float(tokens[1])\n",
    "    timestep = float(tokens[2])\n",
    "    surface_entrance = tokens[3] == 'True'\n",
    "\n",
    "    dbcon = sqlite3.connect(db)\n",
    "    dbcur = dbcon.cursor()\n",
    "    res = dbcur.execute(\"SELECT * FROM sims\").fetchall()\n",
    "    sim_data = np.array(res, dtype=np.longlong)[:, 2:]\n",
    "    sim_data = np.cumsum(sim_data, axis=0)\n",
    "    n_sims = sim_data.shape[0]\n",
    "    n_conflicts = sim_data[-1,1]\n",
    "    sim_data = np.hstack((sim_data, (sim_data[:, 1] / (sim_data[:, 0]/3600))[:, None]))\n",
    "\n",
    "    # fig, ax = plt.subplots(\n",
    "    #     1, 1, figsize=(12,6),\n",
    "    # )\n",
    "    #\n",
    "    # ax.plot(range(sim_data.shape[0]), sim_data[:, 2])\n",
    "    # ax.axhline(np.median(sim_data[:,2]), color='red', linestyle=':')\n",
    "    # ax.set_xscale('log')\n",
    "    # ax.set_yscale('log')\n",
    "    # ax.set_title(f\"ABS convergence\\nTraffic Density {traffic_density:1e} m$^{-3}$ hr$^{-1}$ \\nTimestep {timestep:.1e}s\\nSurface Entrance {surface_entrance}\")\n",
    "    # ax.set_xlabel(\"Operations Simulated\")\n",
    "    # ax.set_ylabel(\"uMAC Risk/hour\")\n",
    "    # print(f'Traffic Density {traffic_density:1e} m$^{-3}$ hr$^{-1}$ \\nTimestep {timestep:.1e}s\\nSurface Entrance {surface_entrance} \\nMedian uMAC rate {np.median(sim_data[:,2]):2e} per hour\\n\\n-----------------\\n\\n')\n",
    "\n",
    "    conflict_sum = sim_data[:, 2].sum()\n",
    "    sim_secs = (OWNPATH_PATH_LENGTH/70)*sim_data.shape[0]\n",
    "    sim_hrs = sim_secs / (60*60)\n",
    "    # sim_hrs = sim_data[:, 1].sum() / (60*60)\n",
    "    sim_ops = sim_data.shape[0]\n",
    "    mean_col_rate = conflict_sum / sim_hrs\n",
    "    median_col_rate = np.median(sim_data[:,2])\n",
    "    conv_metric = 1- (np.abs(np.diff(sim_data[-5000:,2]).sum())/median_col_rate)\n",
    "    results.append([traffic_density, timestep, surface_entrance, sim_hrs, median_col_rate, conv_metric])"
   ],
   "metadata": {
    "collapsed": false
   }
  },
  {
   "cell_type": "code",
   "execution_count": 130,
   "outputs": [],
   "source": [
    "res_df = pd.DataFrame(results, columns=['traffic_density', 'timestep', 'surface_entrance', 'sim_hours', 'uMAC_per_hour', 'convergence']).dropna(axis=0)\n",
    "# res_df = res_df[res_df['timestep'] <= 2]"
   ],
   "metadata": {
    "collapsed": false
   }
  },
  {
   "cell_type": "code",
   "execution_count": 131,
   "outputs": [
    {
     "data": {
      "text/plain": "<pandas.io.formats.style.Styler at 0x7f2e6f3b6470>",
      "text/html": "<style type=\"text/css\">\n#T_6c36a_row0_col0, #T_6c36a_row1_col1, #T_6c36a_row2_col2, #T_6c36a_row3_col3, #T_6c36a_row4_col4, #T_6c36a_row5_col5 {\n  background-color: #b40426;\n  color: #f1f1f1;\n}\n#T_6c36a_row0_col1 {\n  background-color: #4f69d9;\n  color: #f1f1f1;\n}\n#T_6c36a_row0_col2 {\n  background-color: #6282ea;\n  color: #f1f1f1;\n}\n#T_6c36a_row0_col3, #T_6c36a_row1_col0, #T_6c36a_row1_col4, #T_6c36a_row1_col5, #T_6c36a_row3_col2, #T_6c36a_row4_col1 {\n  background-color: #3b4cc0;\n  color: #f1f1f1;\n}\n#T_6c36a_row0_col4 {\n  background-color: #f29072;\n  color: #f1f1f1;\n}\n#T_6c36a_row0_col5 {\n  background-color: #c6d6f1;\n  color: #000000;\n}\n#T_6c36a_row1_col2 {\n  background-color: #799cf8;\n  color: #f1f1f1;\n}\n#T_6c36a_row1_col3 {\n  background-color: #f7b79b;\n  color: #000000;\n}\n#T_6c36a_row2_col0 {\n  background-color: #84a7fc;\n  color: #f1f1f1;\n}\n#T_6c36a_row2_col1 {\n  background-color: #a9c6fd;\n  color: #000000;\n}\n#T_6c36a_row2_col3 {\n  background-color: #536edd;\n  color: #f1f1f1;\n}\n#T_6c36a_row2_col4 {\n  background-color: #9fbfff;\n  color: #000000;\n}\n#T_6c36a_row2_col5 {\n  background-color: #5572df;\n  color: #f1f1f1;\n}\n#T_6c36a_row3_col0 {\n  background-color: #455cce;\n  color: #f1f1f1;\n}\n#T_6c36a_row3_col1 {\n  background-color: #f7aa8c;\n  color: #000000;\n}\n#T_6c36a_row3_col4 {\n  background-color: #7396f5;\n  color: #f1f1f1;\n}\n#T_6c36a_row3_col5 {\n  background-color: #d4dbe6;\n  color: #000000;\n}\n#T_6c36a_row4_col0 {\n  background-color: #f39778;\n  color: #000000;\n}\n#T_6c36a_row4_col2 {\n  background-color: #6c8ff1;\n  color: #f1f1f1;\n}\n#T_6c36a_row4_col3 {\n  background-color: #5470de;\n  color: #f1f1f1;\n}\n#T_6c36a_row4_col5 {\n  background-color: #bcd2f7;\n  color: #000000;\n}\n#T_6c36a_row5_col0 {\n  background-color: #d8dce2;\n  color: #000000;\n}\n#T_6c36a_row5_col1 {\n  background-color: #6f92f3;\n  color: #f1f1f1;\n}\n#T_6c36a_row5_col2 {\n  background-color: #516ddb;\n  color: #f1f1f1;\n}\n#T_6c36a_row5_col3 {\n  background-color: #dedcdb;\n  color: #000000;\n}\n#T_6c36a_row5_col4 {\n  background-color: #d9dce1;\n  color: #000000;\n}\n</style>\n<table id=\"T_6c36a\">\n  <thead>\n    <tr>\n      <th class=\"blank level0\" >&nbsp;</th>\n      <th id=\"T_6c36a_level0_col0\" class=\"col_heading level0 col0\" >traffic_density</th>\n      <th id=\"T_6c36a_level0_col1\" class=\"col_heading level0 col1\" >timestep</th>\n      <th id=\"T_6c36a_level0_col2\" class=\"col_heading level0 col2\" >surface_entrance</th>\n      <th id=\"T_6c36a_level0_col3\" class=\"col_heading level0 col3\" >sim_hours</th>\n      <th id=\"T_6c36a_level0_col4\" class=\"col_heading level0 col4\" >uMAC_per_hour</th>\n      <th id=\"T_6c36a_level0_col5\" class=\"col_heading level0 col5\" >convergence</th>\n    </tr>\n  </thead>\n  <tbody>\n    <tr>\n      <th id=\"T_6c36a_level0_row0\" class=\"row_heading level0 row0\" >traffic_density</th>\n      <td id=\"T_6c36a_row0_col0\" class=\"data row0 col0\" >1.000000</td>\n      <td id=\"T_6c36a_row0_col1\" class=\"data row0 col1\" >-0.377937</td>\n      <td id=\"T_6c36a_row0_col2\" class=\"data row0 col2\" >-0.066822</td>\n      <td id=\"T_6c36a_row0_col3\" class=\"data row0 col3\" >-0.327821</td>\n      <td id=\"T_6c36a_row0_col4\" class=\"data row0 col4\" >0.664308</td>\n      <td id=\"T_6c36a_row0_col5\" class=\"data row0 col5\" >0.285003</td>\n    </tr>\n    <tr>\n      <th id=\"T_6c36a_level0_row1\" class=\"row_heading level0 row1\" >timestep</th>\n      <td id=\"T_6c36a_row1_col0\" class=\"data row1 col0\" >-0.377937</td>\n      <td id=\"T_6c36a_row1_col1\" class=\"data row1 col1\" >1.000000</td>\n      <td id=\"T_6c36a_row1_col2\" class=\"data row1 col2\" >0.012625</td>\n      <td id=\"T_6c36a_row1_col3\" class=\"data row1 col3\" >0.563156</td>\n      <td id=\"T_6c36a_row1_col4\" class=\"data row1 col4\" >-0.477179</td>\n      <td id=\"T_6c36a_row1_col5\" class=\"data row1 col5\" >-0.233950</td>\n    </tr>\n    <tr>\n      <th id=\"T_6c36a_level0_row2\" class=\"row_heading level0 row2\" >surface_entrance</th>\n      <td id=\"T_6c36a_row2_col0\" class=\"data row2 col0\" >-0.066822</td>\n      <td id=\"T_6c36a_row2_col1\" class=\"data row2 col1\" >0.012625</td>\n      <td id=\"T_6c36a_row2_col2\" class=\"data row2 col2\" >1.000000</td>\n      <td id=\"T_6c36a_row2_col3\" class=\"data row2 col3\" >-0.222342</td>\n      <td id=\"T_6c36a_row2_col4\" class=\"data row2 col4\" >-0.029467</td>\n      <td id=\"T_6c36a_row2_col5\" class=\"data row2 col5\" >-0.127498</td>\n    </tr>\n    <tr>\n      <th id=\"T_6c36a_level0_row3\" class=\"row_heading level0 row3\" >sim_hours</th>\n      <td id=\"T_6c36a_row3_col0\" class=\"data row3 col0\" >-0.327821</td>\n      <td id=\"T_6c36a_row3_col1\" class=\"data row3 col1\" >0.563156</td>\n      <td id=\"T_6c36a_row3_col2\" class=\"data row3 col2\" >-0.222342</td>\n      <td id=\"T_6c36a_row3_col3\" class=\"data row3 col3\" >1.000000</td>\n      <td id=\"T_6c36a_row3_col4\" class=\"data row3 col4\" >-0.214819</td>\n      <td id=\"T_6c36a_row3_col5\" class=\"data row3 col5\" >0.344155</td>\n    </tr>\n    <tr>\n      <th id=\"T_6c36a_level0_row4\" class=\"row_heading level0 row4\" >uMAC_per_hour</th>\n      <td id=\"T_6c36a_row4_col0\" class=\"data row4 col0\" >0.664308</td>\n      <td id=\"T_6c36a_row4_col1\" class=\"data row4 col1\" >-0.477179</td>\n      <td id=\"T_6c36a_row4_col2\" class=\"data row4 col2\" >-0.029467</td>\n      <td id=\"T_6c36a_row4_col3\" class=\"data row4 col3\" >-0.214819</td>\n      <td id=\"T_6c36a_row4_col4\" class=\"data row4 col4\" >1.000000</td>\n      <td id=\"T_6c36a_row4_col5\" class=\"data row4 col5\" >0.243310</td>\n    </tr>\n    <tr>\n      <th id=\"T_6c36a_level0_row5\" class=\"row_heading level0 row5\" >convergence</th>\n      <td id=\"T_6c36a_row5_col0\" class=\"data row5 col0\" >0.285003</td>\n      <td id=\"T_6c36a_row5_col1\" class=\"data row5 col1\" >-0.233950</td>\n      <td id=\"T_6c36a_row5_col2\" class=\"data row5 col2\" >-0.127498</td>\n      <td id=\"T_6c36a_row5_col3\" class=\"data row5 col3\" >0.344155</td>\n      <td id=\"T_6c36a_row5_col4\" class=\"data row5 col4\" >0.243310</td>\n      <td id=\"T_6c36a_row5_col5\" class=\"data row5 col5\" >1.000000</td>\n    </tr>\n  </tbody>\n</table>\n"
     },
     "execution_count": 131,
     "metadata": {},
     "output_type": "execute_result"
    }
   ],
   "source": [
    "corr = res_df.corr(method='pearson')\n",
    "corr.style.background_gradient(cmap='coolwarm')"
   ],
   "metadata": {
    "collapsed": false
   }
  },
  {
   "cell_type": "code",
   "execution_count": 132,
   "outputs": [
    {
     "data": {
      "text/plain": "Text(0, 0.5, 'uMAC Risk/hour')"
     },
     "execution_count": 132,
     "metadata": {},
     "output_type": "execute_result"
    },
    {
     "data": {
      "text/plain": "<Figure size 1200x600 with 1 Axes>",
      "image/png": "[encoded data removed]"
     },
     "metadata": {},
     "output_type": "display_data"
    }
   ],
   "source": [
    "fig, ax = plt.subplots(\n",
    "    1, 1, figsize=(12,6),\n",
    ")\n",
    "\n",
    "ax.scatter(res_df['traffic_density'], res_df['uMAC_per_hour'])\n",
    "ax.set_xscale('log')\n",
    "ax.set_yscale('log')\n",
    "ax.set_title('Traffic Density vs uMAC')\n",
    "ax.set_xlabel(\"Traffic Density [m$^{-3}$ hr$^{-1}$]\")\n",
    "ax.set_ylabel(\"uMAC Risk/hour\")"
   ],
   "metadata": {
    "collapsed": false
   }
  },
  {
   "cell_type": "code",
   "execution_count": null,
   "outputs": [],
   "source": [],
   "metadata": {
    "collapsed": false
   }
  }
 ],
 "metadata": {
  "kernelspec": {
   "display_name": "Python 3",
   "language": "python",
   "name": "python3"
  },
  "language_info": {
   "codemirror_mode": {
    "name": "ipython",
    "version": 2
   },
   "file_extension": ".py",
   "mimetype": "text/x-python",
   "name": "python",
   "nbconvert_exporter": "python",
   "pygments_lexer": "ipython2",
   "version": "2.7.6"
  }
 },
 "nbformat": 4,
 "nbformat_minor": 0
}
